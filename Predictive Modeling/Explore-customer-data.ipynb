{
 "cells": [
  {
   "cell_type": "markdown",
   "id": "645511fe-0e9a-4a85-9135-b6d2b9a4d188",
   "metadata": {},
   "source": [
    "# Exploratory Data Analysis on Customer Bookings data for British Airways\n"
   ]
  },
  {
   "cell_type": "markdown",
   "id": "df5a2fc8-cd80-4f21-adc4-36c1e4eb7890",
   "metadata": {},
   "source": [
    "#### Life cycle of Machine learning Project\n",
    "\n",
    "- Understanding the Problem Statement\n",
    "- Data Collection\n",
    "- Data Checks to perform\n",
    "- Exploratory Data Analysis\n",
    "- Data Pre-Processing\n",
    "- Model Training\n",
    "- Choose best model\n"
   ]
  },
  {
   "cell_type": "markdown",
   "id": "707ccff2-24cf-4808-93fe-0f4113aea0b2",
   "metadata": {},
   "source": [
    "## 1) Problem statement\n",
    "- The goal of this project is to develop a predictive model that determines whether a customer is likely to purchase holidays based on their booking data."
   ]
  },
  {
   "cell_type": "markdown",
   "id": "4c2f746e-1452-4f0a-bcfd-c6139fd7851b",
   "metadata": {},
   "source": [
    "## 2) Data Collection"
   ]
  },
  {
   "cell_type": "markdown",
   "id": "47776090-a431-4e2a-b1aa-60374fdeae01",
   "metadata": {},
   "source": [
    "### 2.1 Import data and Required Packages\n",
    "\n",
    "Importing Pandas, Numpy, Matplotlib, Seaborn and Warnings Library."
   ]
  },
  {
   "cell_type": "code",
   "execution_count": 1,
   "id": "07b0ddf2-e4d5-4839-8709-b04875a096e2",
   "metadata": {},
   "outputs": [],
   "source": [
    "import pandas as pd\n",
    "import numpy as np\n",
    "import os\n",
    "\n",
    "import seaborn as sns\n",
    "import matplotlib.pyplot as plt\n",
    "%matplotlib inline\n",
    "\n",
    "import warnings\n",
    "warnings.filterwarnings('ignore')"
   ]
  },
  {
   "cell_type": "markdown",
   "id": "718087d6-f3a1-4387-9fda-868e074c814a",
   "metadata": {},
   "source": [
    "#### Import the CSV Data as Pandas DataFrame"
   ]
  },
  {
   "cell_type": "code",
   "execution_count": 4,
   "id": "3505e05f-7a21-4977-941f-e456eb9f5be4",
   "metadata": {},
   "outputs": [],
   "source": [
    "df = pd.read_csv( \"customer_booking.csv\",  encoding=\"ISO-8859-1\")"
   ]
  },
  {
   "cell_type": "markdown",
   "id": "dfe34d77-d203-4049-b54c-0c5f50667710",
   "metadata": {},
   "source": [
    "#### Show Top 5 Records"
   ]
  },
  {
   "cell_type": "code",
   "execution_count": 34,
   "id": "1e1e0a83-54b8-44e2-96b2-41e6f364dc58",
   "metadata": {},
   "outputs": [
    {
     "data": {
      "text/html": [
       "<div>\n",
       "<style scoped>\n",
       "    .dataframe tbody tr th:only-of-type {\n",
       "        vertical-align: middle;\n",
       "    }\n",
       "\n",
       "    .dataframe tbody tr th {\n",
       "        vertical-align: top;\n",
       "    }\n",
       "\n",
       "    .dataframe thead th {\n",
       "        text-align: right;\n",
       "    }\n",
       "</style>\n",
       "<table border=\"1\" class=\"dataframe\">\n",
       "  <thead>\n",
       "    <tr style=\"text-align: right;\">\n",
       "      <th></th>\n",
       "      <th>num_passengers</th>\n",
       "      <th>sales_channel</th>\n",
       "      <th>trip_type</th>\n",
       "      <th>purchase_lead</th>\n",
       "      <th>length_of_stay</th>\n",
       "      <th>flight_hour</th>\n",
       "      <th>flight_day</th>\n",
       "      <th>route</th>\n",
       "      <th>booking_origin</th>\n",
       "      <th>wants_extra_baggage</th>\n",
       "      <th>wants_preferred_seat</th>\n",
       "      <th>wants_in_flight_meals</th>\n",
       "      <th>flight_duration</th>\n",
       "      <th>booking_complete</th>\n",
       "    </tr>\n",
       "  </thead>\n",
       "  <tbody>\n",
       "    <tr>\n",
       "      <th>0</th>\n",
       "      <td>2</td>\n",
       "      <td>Internet</td>\n",
       "      <td>RoundTrip</td>\n",
       "      <td>262</td>\n",
       "      <td>19</td>\n",
       "      <td>7</td>\n",
       "      <td>Sat</td>\n",
       "      <td>AKLDEL</td>\n",
       "      <td>New Zealand</td>\n",
       "      <td>1</td>\n",
       "      <td>0</td>\n",
       "      <td>0</td>\n",
       "      <td>5.52</td>\n",
       "      <td>0</td>\n",
       "    </tr>\n",
       "    <tr>\n",
       "      <th>1</th>\n",
       "      <td>1</td>\n",
       "      <td>Internet</td>\n",
       "      <td>RoundTrip</td>\n",
       "      <td>112</td>\n",
       "      <td>20</td>\n",
       "      <td>3</td>\n",
       "      <td>Sat</td>\n",
       "      <td>AKLDEL</td>\n",
       "      <td>New Zealand</td>\n",
       "      <td>0</td>\n",
       "      <td>0</td>\n",
       "      <td>0</td>\n",
       "      <td>5.52</td>\n",
       "      <td>0</td>\n",
       "    </tr>\n",
       "    <tr>\n",
       "      <th>2</th>\n",
       "      <td>2</td>\n",
       "      <td>Internet</td>\n",
       "      <td>RoundTrip</td>\n",
       "      <td>243</td>\n",
       "      <td>22</td>\n",
       "      <td>17</td>\n",
       "      <td>Wed</td>\n",
       "      <td>AKLDEL</td>\n",
       "      <td>India</td>\n",
       "      <td>1</td>\n",
       "      <td>1</td>\n",
       "      <td>0</td>\n",
       "      <td>5.52</td>\n",
       "      <td>0</td>\n",
       "    </tr>\n",
       "    <tr>\n",
       "      <th>3</th>\n",
       "      <td>1</td>\n",
       "      <td>Internet</td>\n",
       "      <td>RoundTrip</td>\n",
       "      <td>96</td>\n",
       "      <td>31</td>\n",
       "      <td>4</td>\n",
       "      <td>Sat</td>\n",
       "      <td>AKLDEL</td>\n",
       "      <td>New Zealand</td>\n",
       "      <td>0</td>\n",
       "      <td>0</td>\n",
       "      <td>1</td>\n",
       "      <td>5.52</td>\n",
       "      <td>0</td>\n",
       "    </tr>\n",
       "    <tr>\n",
       "      <th>4</th>\n",
       "      <td>2</td>\n",
       "      <td>Internet</td>\n",
       "      <td>RoundTrip</td>\n",
       "      <td>68</td>\n",
       "      <td>22</td>\n",
       "      <td>15</td>\n",
       "      <td>Wed</td>\n",
       "      <td>AKLDEL</td>\n",
       "      <td>India</td>\n",
       "      <td>1</td>\n",
       "      <td>0</td>\n",
       "      <td>1</td>\n",
       "      <td>5.52</td>\n",
       "      <td>0</td>\n",
       "    </tr>\n",
       "  </tbody>\n",
       "</table>\n",
       "</div>"
      ],
      "text/plain": [
       "   num_passengers sales_channel  trip_type  purchase_lead  length_of_stay  \\\n",
       "0               2      Internet  RoundTrip            262              19   \n",
       "1               1      Internet  RoundTrip            112              20   \n",
       "2               2      Internet  RoundTrip            243              22   \n",
       "3               1      Internet  RoundTrip             96              31   \n",
       "4               2      Internet  RoundTrip             68              22   \n",
       "\n",
       "   flight_hour flight_day   route booking_origin  wants_extra_baggage  \\\n",
       "0            7        Sat  AKLDEL    New Zealand                    1   \n",
       "1            3        Sat  AKLDEL    New Zealand                    0   \n",
       "2           17        Wed  AKLDEL          India                    1   \n",
       "3            4        Sat  AKLDEL    New Zealand                    0   \n",
       "4           15        Wed  AKLDEL          India                    1   \n",
       "\n",
       "   wants_preferred_seat  wants_in_flight_meals  flight_duration  \\\n",
       "0                     0                      0             5.52   \n",
       "1                     0                      0             5.52   \n",
       "2                     1                      0             5.52   \n",
       "3                     0                      1             5.52   \n",
       "4                     0                      1             5.52   \n",
       "\n",
       "   booking_complete  \n",
       "0                 0  \n",
       "1                 0  \n",
       "2                 0  \n",
       "3                 0  \n",
       "4                 0  "
      ]
     },
     "execution_count": 34,
     "metadata": {},
     "output_type": "execute_result"
    }
   ],
   "source": [
    "df.head()"
   ]
  },
  {
   "cell_type": "markdown",
   "id": "c7b44f55-c30d-4ea5-b266-52e8440a3c45",
   "metadata": {},
   "source": [
    "#### Shape of the dataset"
   ]
  },
  {
   "cell_type": "code",
   "execution_count": 36,
   "id": "7275120d-4447-4866-87d0-e9c0786ea2cb",
   "metadata": {},
   "outputs": [
    {
     "data": {
      "text/plain": [
       "(50000, 14)"
      ]
     },
     "execution_count": 36,
     "metadata": {},
     "output_type": "execute_result"
    }
   ],
   "source": [
    "df.shape"
   ]
  },
  {
   "cell_type": "markdown",
   "id": "e5bab5a2-5d4b-487b-86c9-d8cec2c97781",
   "metadata": {},
   "source": [
    "## 2.2 Dataset information\n",
    "\n",
    "- num_passengers = number of passengers travelling\n",
    "- sales_channel = sales channel booking was made on\n",
    "- trip_type = trip Type (Round Trip, One Way, Circle Trip)\n",
    "- purchase_lead = number of days between travel date and booking date\n",
    "- length_of_stay = number of days spent at destination\n",
    "- flight_hour = hour of flight departure\n",
    "- flight_day = day of week of flight departure\n",
    "- route = origin -> destination flight route\n",
    "- booking_origin = country from where booking was made\n",
    "- wants_extra_baggage = if the customer wanted extra baggage in the booking\n",
    "- wants_preferred_seat = if the customer wanted a preferred seat in the booking\n",
    "- wants_in_flight_meals = if the customer wanted in-flight meals in the booking\n",
    "- flight_duration = total duration of flight (in hours)\n",
    "- booking_complete = flag indicating if the customer completed the booking"
   ]
  },
  {
   "cell_type": "markdown",
   "id": "694b1173-08b3-4885-a074-9e81f3a28b70",
   "metadata": {},
   "source": [
    "## 3.1 Check Missing values"
   ]
  },
  {
   "cell_type": "code",
   "execution_count": 39,
   "id": "b8563cb7-a524-4018-b831-660f37d3393a",
   "metadata": {},
   "outputs": [
    {
     "data": {
      "text/plain": [
       "num_passengers           0\n",
       "sales_channel            0\n",
       "trip_type                0\n",
       "purchase_lead            0\n",
       "length_of_stay           0\n",
       "flight_hour              0\n",
       "flight_day               0\n",
       "route                    0\n",
       "booking_origin           0\n",
       "wants_extra_baggage      0\n",
       "wants_preferred_seat     0\n",
       "wants_in_flight_meals    0\n",
       "flight_duration          0\n",
       "booking_complete         0\n",
       "dtype: int64"
      ]
     },
     "execution_count": 39,
     "metadata": {},
     "output_type": "execute_result"
    }
   ],
   "source": [
    "df.isnull().sum()"
   ]
  },
  {
   "cell_type": "markdown",
   "id": "14b81217-aaff-4c6a-af57-e2c5ac72c716",
   "metadata": {},
   "source": [
    "There are no missing values in the data set"
   ]
  },
  {
   "cell_type": "markdown",
   "id": "af3b7761-9a71-4b79-a64f-819376131119",
   "metadata": {},
   "source": [
    "## 3.2 Check Duplicates"
   ]
  },
  {
   "cell_type": "code",
   "execution_count": 43,
   "id": "b55de849-47c7-49ce-a120-41f40b42f70b",
   "metadata": {},
   "outputs": [
    {
     "data": {
      "text/plain": [
       "719"
      ]
     },
     "execution_count": 43,
     "metadata": {},
     "output_type": "execute_result"
    }
   ],
   "source": [
    "df.duplicated().sum()"
   ]
  },
  {
   "cell_type": "markdown",
   "id": "db091f88-e6e5-4953-b7c8-8af266f0189c",
   "metadata": {},
   "source": [
    "There are 719 duplicated values in the dataset "
   ]
  },
  {
   "cell_type": "code",
   "execution_count": 48,
   "id": "2e43fb95-9006-42f0-a5c8-35c1e977d2eb",
   "metadata": {},
   "outputs": [],
   "source": [
    "df.drop_duplicates(inplace=True)"
   ]
  },
  {
   "cell_type": "code",
   "execution_count": 50,
   "id": "05c29573-d738-4920-998c-b9144adc2f40",
   "metadata": {},
   "outputs": [
    {
     "data": {
      "text/plain": [
       "(49281, 14)"
      ]
     },
     "execution_count": 50,
     "metadata": {},
     "output_type": "execute_result"
    }
   ],
   "source": [
    "df.shape"
   ]
  },
  {
   "cell_type": "markdown",
   "id": "8715ad7d-dbe0-4b78-b651-fca217813368",
   "metadata": {},
   "source": [
    "#### Now the data consists of 14 columns and 49281 rows  "
   ]
  },
  {
   "cell_type": "markdown",
   "id": "858669e0-91b8-4ad8-8bcd-46626bbec235",
   "metadata": {},
   "source": [
    "## 3.3 Check data types"
   ]
  },
  {
   "cell_type": "code",
   "execution_count": 54,
   "id": "f47cf429-9860-44b7-a237-dbf3f421a7c0",
   "metadata": {},
   "outputs": [
    {
     "name": "stdout",
     "output_type": "stream",
     "text": [
      "<class 'pandas.core.frame.DataFrame'>\n",
      "Index: 49281 entries, 0 to 49999\n",
      "Data columns (total 14 columns):\n",
      " #   Column                 Non-Null Count  Dtype  \n",
      "---  ------                 --------------  -----  \n",
      " 0   num_passengers         49281 non-null  int64  \n",
      " 1   sales_channel          49281 non-null  object \n",
      " 2   trip_type              49281 non-null  object \n",
      " 3   purchase_lead          49281 non-null  int64  \n",
      " 4   length_of_stay         49281 non-null  int64  \n",
      " 5   flight_hour            49281 non-null  int64  \n",
      " 6   flight_day             49281 non-null  object \n",
      " 7   route                  49281 non-null  object \n",
      " 8   booking_origin         49281 non-null  object \n",
      " 9   wants_extra_baggage    49281 non-null  int64  \n",
      " 10  wants_preferred_seat   49281 non-null  int64  \n",
      " 11  wants_in_flight_meals  49281 non-null  int64  \n",
      " 12  flight_duration        49281 non-null  float64\n",
      " 13  booking_complete       49281 non-null  int64  \n",
      "dtypes: float64(1), int64(8), object(5)\n",
      "memory usage: 5.6+ MB\n"
     ]
    }
   ],
   "source": [
    "# Check null and Dtypes\n",
    "df.info()"
   ]
  },
  {
   "cell_type": "markdown",
   "id": "158d90ed-0dd3-4d64-be96-5e0c8fcafdc5",
   "metadata": {},
   "source": [
    "## 3.4 Checking the number of unique vales of each column"
   ]
  },
  {
   "cell_type": "code",
   "execution_count": 60,
   "id": "db92f9c2-0e51-4306-a610-061b99e57ec1",
   "metadata": {},
   "outputs": [
    {
     "data": {
      "text/plain": [
       "num_passengers             9\n",
       "sales_channel              2\n",
       "trip_type                  3\n",
       "purchase_lead            470\n",
       "length_of_stay           335\n",
       "flight_hour               24\n",
       "flight_day                 7\n",
       "route                    799\n",
       "booking_origin           104\n",
       "wants_extra_baggage        2\n",
       "wants_preferred_seat       2\n",
       "wants_in_flight_meals      2\n",
       "flight_duration           21\n",
       "booking_complete           2\n",
       "dtype: int64"
      ]
     },
     "execution_count": 60,
     "metadata": {},
     "output_type": "execute_result"
    }
   ],
   "source": [
    "df.nunique()"
   ]
  },
  {
   "cell_type": "markdown",
   "id": "35c643d3-7024-4b15-8a5b-7ee0f2d7e759",
   "metadata": {},
   "source": [
    "## 3.5 Check statistics of data set"
   ]
  },
  {
   "cell_type": "code",
   "execution_count": 37,
   "id": "165ad191-61e6-4646-894b-5f648321019b",
   "metadata": {},
   "outputs": [
    {
     "data": {
      "text/html": [
       "<div>\n",
       "<style scoped>\n",
       "    .dataframe tbody tr th:only-of-type {\n",
       "        vertical-align: middle;\n",
       "    }\n",
       "\n",
       "    .dataframe tbody tr th {\n",
       "        vertical-align: top;\n",
       "    }\n",
       "\n",
       "    .dataframe thead th {\n",
       "        text-align: right;\n",
       "    }\n",
       "</style>\n",
       "<table border=\"1\" class=\"dataframe\">\n",
       "  <thead>\n",
       "    <tr style=\"text-align: right;\">\n",
       "      <th></th>\n",
       "      <th>num_passengers</th>\n",
       "      <th>purchase_lead</th>\n",
       "      <th>length_of_stay</th>\n",
       "      <th>flight_hour</th>\n",
       "      <th>wants_extra_baggage</th>\n",
       "      <th>wants_preferred_seat</th>\n",
       "      <th>wants_in_flight_meals</th>\n",
       "      <th>flight_duration</th>\n",
       "      <th>booking_complete</th>\n",
       "    </tr>\n",
       "  </thead>\n",
       "  <tbody>\n",
       "    <tr>\n",
       "      <th>count</th>\n",
       "      <td>50000.000000</td>\n",
       "      <td>50000.000000</td>\n",
       "      <td>50000.00000</td>\n",
       "      <td>50000.00000</td>\n",
       "      <td>50000.000000</td>\n",
       "      <td>50000.000000</td>\n",
       "      <td>50000.000000</td>\n",
       "      <td>50000.000000</td>\n",
       "      <td>50000.000000</td>\n",
       "    </tr>\n",
       "    <tr>\n",
       "      <th>mean</th>\n",
       "      <td>1.591240</td>\n",
       "      <td>84.940480</td>\n",
       "      <td>23.04456</td>\n",
       "      <td>9.06634</td>\n",
       "      <td>0.668780</td>\n",
       "      <td>0.296960</td>\n",
       "      <td>0.427140</td>\n",
       "      <td>7.277561</td>\n",
       "      <td>0.149560</td>\n",
       "    </tr>\n",
       "    <tr>\n",
       "      <th>std</th>\n",
       "      <td>1.020165</td>\n",
       "      <td>90.451378</td>\n",
       "      <td>33.88767</td>\n",
       "      <td>5.41266</td>\n",
       "      <td>0.470657</td>\n",
       "      <td>0.456923</td>\n",
       "      <td>0.494668</td>\n",
       "      <td>1.496863</td>\n",
       "      <td>0.356643</td>\n",
       "    </tr>\n",
       "    <tr>\n",
       "      <th>min</th>\n",
       "      <td>1.000000</td>\n",
       "      <td>0.000000</td>\n",
       "      <td>0.00000</td>\n",
       "      <td>0.00000</td>\n",
       "      <td>0.000000</td>\n",
       "      <td>0.000000</td>\n",
       "      <td>0.000000</td>\n",
       "      <td>4.670000</td>\n",
       "      <td>0.000000</td>\n",
       "    </tr>\n",
       "    <tr>\n",
       "      <th>25%</th>\n",
       "      <td>1.000000</td>\n",
       "      <td>21.000000</td>\n",
       "      <td>5.00000</td>\n",
       "      <td>5.00000</td>\n",
       "      <td>0.000000</td>\n",
       "      <td>0.000000</td>\n",
       "      <td>0.000000</td>\n",
       "      <td>5.620000</td>\n",
       "      <td>0.000000</td>\n",
       "    </tr>\n",
       "    <tr>\n",
       "      <th>50%</th>\n",
       "      <td>1.000000</td>\n",
       "      <td>51.000000</td>\n",
       "      <td>17.00000</td>\n",
       "      <td>9.00000</td>\n",
       "      <td>1.000000</td>\n",
       "      <td>0.000000</td>\n",
       "      <td>0.000000</td>\n",
       "      <td>7.570000</td>\n",
       "      <td>0.000000</td>\n",
       "    </tr>\n",
       "    <tr>\n",
       "      <th>75%</th>\n",
       "      <td>2.000000</td>\n",
       "      <td>115.000000</td>\n",
       "      <td>28.00000</td>\n",
       "      <td>13.00000</td>\n",
       "      <td>1.000000</td>\n",
       "      <td>1.000000</td>\n",
       "      <td>1.000000</td>\n",
       "      <td>8.830000</td>\n",
       "      <td>0.000000</td>\n",
       "    </tr>\n",
       "    <tr>\n",
       "      <th>max</th>\n",
       "      <td>9.000000</td>\n",
       "      <td>867.000000</td>\n",
       "      <td>778.00000</td>\n",
       "      <td>23.00000</td>\n",
       "      <td>1.000000</td>\n",
       "      <td>1.000000</td>\n",
       "      <td>1.000000</td>\n",
       "      <td>9.500000</td>\n",
       "      <td>1.000000</td>\n",
       "    </tr>\n",
       "  </tbody>\n",
       "</table>\n",
       "</div>"
      ],
      "text/plain": [
       "       num_passengers  purchase_lead  length_of_stay  flight_hour  \\\n",
       "count    50000.000000   50000.000000     50000.00000  50000.00000   \n",
       "mean         1.591240      84.940480        23.04456      9.06634   \n",
       "std          1.020165      90.451378        33.88767      5.41266   \n",
       "min          1.000000       0.000000         0.00000      0.00000   \n",
       "25%          1.000000      21.000000         5.00000      5.00000   \n",
       "50%          1.000000      51.000000        17.00000      9.00000   \n",
       "75%          2.000000     115.000000        28.00000     13.00000   \n",
       "max          9.000000     867.000000       778.00000     23.00000   \n",
       "\n",
       "       wants_extra_baggage  wants_preferred_seat  wants_in_flight_meals  \\\n",
       "count         50000.000000          50000.000000           50000.000000   \n",
       "mean              0.668780              0.296960               0.427140   \n",
       "std               0.470657              0.456923               0.494668   \n",
       "min               0.000000              0.000000               0.000000   \n",
       "25%               0.000000              0.000000               0.000000   \n",
       "50%               1.000000              0.000000               0.000000   \n",
       "75%               1.000000              1.000000               1.000000   \n",
       "max               1.000000              1.000000               1.000000   \n",
       "\n",
       "       flight_duration  booking_complete  \n",
       "count     50000.000000      50000.000000  \n",
       "mean          7.277561          0.149560  \n",
       "std           1.496863          0.356643  \n",
       "min           4.670000          0.000000  \n",
       "25%           5.620000          0.000000  \n",
       "50%           7.570000          0.000000  \n",
       "75%           8.830000          0.000000  \n",
       "max           9.500000          1.000000  "
      ]
     },
     "execution_count": 37,
     "metadata": {},
     "output_type": "execute_result"
    }
   ],
   "source": [
    "df.describe()"
   ]
  },
  {
   "cell_type": "markdown",
   "id": "25c0bb73-7892-4067-82e6-027c5f19ea3e",
   "metadata": {},
   "source": [
    "##### Insight\n",
    "\n",
    "- From above description of numerical data, the average number of passengers(num_passengers) is approximately 1.59, indicating that most bookings involve single travelers or small groups.\n",
    "- The average purchase lead time (purchase_lead) is around 84.94, suggesting that customers typically book holidays well in advance.\n",
    "- The booking_complete column has a mean value of 0.15, indicating that only a small proportion of bookings are completed."
   ]
  },
  {
   "cell_type": "markdown",
   "id": "0463628b-d72b-42fd-bfad-a4adf5131874",
   "metadata": {},
   "source": [
    "## 3.5 Check if the data target is balanced "
   ]
  },
  {
   "cell_type": "code",
   "execution_count": 67,
   "id": "6872f9f2-50e6-4192-9e87-05086b1450ea",
   "metadata": {},
   "outputs": [
    {
     "data": {
      "text/plain": [
       "booking_complete\n",
       "0    41890\n",
       "1     7391\n",
       "Name: count, dtype: int64"
      ]
     },
     "execution_count": 67,
     "metadata": {},
     "output_type": "execute_result"
    }
   ],
   "source": [
    "df.booking_complete.value_counts()"
   ]
  },
  {
   "cell_type": "markdown",
   "id": "b571e83a-85d1-46cc-8a24-b0a4306950d7",
   "metadata": {},
   "source": [
    "#### Imbalanced dataset: we apply oversampling and undersampling methods later for the train set."
   ]
  },
  {
   "cell_type": "markdown",
   "id": "7fb1c4f1-92c5-4b32-ac76-2940d04e66f1",
   "metadata": {},
   "source": [
    "## 3.6 Exploring Data"
   ]
  },
  {
   "cell_type": "code",
   "execution_count": 73,
   "id": "691c757a-fd9b-484a-b685-67a44eca14ca",
   "metadata": {
    "scrolled": true
   },
   "outputs": [
    {
     "data": {
      "text/html": [
       "<div>\n",
       "<style scoped>\n",
       "    .dataframe tbody tr th:only-of-type {\n",
       "        vertical-align: middle;\n",
       "    }\n",
       "\n",
       "    .dataframe tbody tr th {\n",
       "        vertical-align: top;\n",
       "    }\n",
       "\n",
       "    .dataframe thead th {\n",
       "        text-align: right;\n",
       "    }\n",
       "</style>\n",
       "<table border=\"1\" class=\"dataframe\">\n",
       "  <thead>\n",
       "    <tr style=\"text-align: right;\">\n",
       "      <th></th>\n",
       "      <th>num_passengers</th>\n",
       "      <th>sales_channel</th>\n",
       "      <th>trip_type</th>\n",
       "      <th>purchase_lead</th>\n",
       "      <th>length_of_stay</th>\n",
       "      <th>flight_hour</th>\n",
       "      <th>flight_day</th>\n",
       "      <th>route</th>\n",
       "      <th>booking_origin</th>\n",
       "      <th>wants_extra_baggage</th>\n",
       "      <th>wants_preferred_seat</th>\n",
       "      <th>wants_in_flight_meals</th>\n",
       "      <th>flight_duration</th>\n",
       "      <th>booking_complete</th>\n",
       "    </tr>\n",
       "  </thead>\n",
       "  <tbody>\n",
       "    <tr>\n",
       "      <th>0</th>\n",
       "      <td>2</td>\n",
       "      <td>Internet</td>\n",
       "      <td>RoundTrip</td>\n",
       "      <td>262</td>\n",
       "      <td>19</td>\n",
       "      <td>7</td>\n",
       "      <td>Sat</td>\n",
       "      <td>AKLDEL</td>\n",
       "      <td>New Zealand</td>\n",
       "      <td>1</td>\n",
       "      <td>0</td>\n",
       "      <td>0</td>\n",
       "      <td>5.52</td>\n",
       "      <td>0</td>\n",
       "    </tr>\n",
       "    <tr>\n",
       "      <th>1</th>\n",
       "      <td>1</td>\n",
       "      <td>Internet</td>\n",
       "      <td>RoundTrip</td>\n",
       "      <td>112</td>\n",
       "      <td>20</td>\n",
       "      <td>3</td>\n",
       "      <td>Sat</td>\n",
       "      <td>AKLDEL</td>\n",
       "      <td>New Zealand</td>\n",
       "      <td>0</td>\n",
       "      <td>0</td>\n",
       "      <td>0</td>\n",
       "      <td>5.52</td>\n",
       "      <td>0</td>\n",
       "    </tr>\n",
       "    <tr>\n",
       "      <th>2</th>\n",
       "      <td>2</td>\n",
       "      <td>Internet</td>\n",
       "      <td>RoundTrip</td>\n",
       "      <td>243</td>\n",
       "      <td>22</td>\n",
       "      <td>17</td>\n",
       "      <td>Wed</td>\n",
       "      <td>AKLDEL</td>\n",
       "      <td>India</td>\n",
       "      <td>1</td>\n",
       "      <td>1</td>\n",
       "      <td>0</td>\n",
       "      <td>5.52</td>\n",
       "      <td>0</td>\n",
       "    </tr>\n",
       "    <tr>\n",
       "      <th>3</th>\n",
       "      <td>1</td>\n",
       "      <td>Internet</td>\n",
       "      <td>RoundTrip</td>\n",
       "      <td>96</td>\n",
       "      <td>31</td>\n",
       "      <td>4</td>\n",
       "      <td>Sat</td>\n",
       "      <td>AKLDEL</td>\n",
       "      <td>New Zealand</td>\n",
       "      <td>0</td>\n",
       "      <td>0</td>\n",
       "      <td>1</td>\n",
       "      <td>5.52</td>\n",
       "      <td>0</td>\n",
       "    </tr>\n",
       "    <tr>\n",
       "      <th>4</th>\n",
       "      <td>2</td>\n",
       "      <td>Internet</td>\n",
       "      <td>RoundTrip</td>\n",
       "      <td>68</td>\n",
       "      <td>22</td>\n",
       "      <td>15</td>\n",
       "      <td>Wed</td>\n",
       "      <td>AKLDEL</td>\n",
       "      <td>India</td>\n",
       "      <td>1</td>\n",
       "      <td>0</td>\n",
       "      <td>1</td>\n",
       "      <td>5.52</td>\n",
       "      <td>0</td>\n",
       "    </tr>\n",
       "  </tbody>\n",
       "</table>\n",
       "</div>"
      ],
      "text/plain": [
       "   num_passengers sales_channel  trip_type  purchase_lead  length_of_stay  \\\n",
       "0               2      Internet  RoundTrip            262              19   \n",
       "1               1      Internet  RoundTrip            112              20   \n",
       "2               2      Internet  RoundTrip            243              22   \n",
       "3               1      Internet  RoundTrip             96              31   \n",
       "4               2      Internet  RoundTrip             68              22   \n",
       "\n",
       "   flight_hour flight_day   route booking_origin  wants_extra_baggage  \\\n",
       "0            7        Sat  AKLDEL    New Zealand                    1   \n",
       "1            3        Sat  AKLDEL    New Zealand                    0   \n",
       "2           17        Wed  AKLDEL          India                    1   \n",
       "3            4        Sat  AKLDEL    New Zealand                    0   \n",
       "4           15        Wed  AKLDEL          India                    1   \n",
       "\n",
       "   wants_preferred_seat  wants_in_flight_meals  flight_duration  \\\n",
       "0                     0                      0             5.52   \n",
       "1                     0                      0             5.52   \n",
       "2                     1                      0             5.52   \n",
       "3                     0                      1             5.52   \n",
       "4                     0                      1             5.52   \n",
       "\n",
       "   booking_complete  \n",
       "0                 0  \n",
       "1                 0  \n",
       "2                 0  \n",
       "3                 0  \n",
       "4                 0  "
      ]
     },
     "execution_count": 73,
     "metadata": {},
     "output_type": "execute_result"
    }
   ],
   "source": [
    "df.head()"
   ]
  },
  {
   "cell_type": "code",
   "execution_count": 87,
   "id": "8281e460-ccc9-48e7-a742-78b4eb5eaa13",
   "metadata": {},
   "outputs": [
    {
     "name": "stdout",
     "output_type": "stream",
     "text": [
      "We have 9 numerical features : ['num_passengers', 'purchase_lead', 'length_of_stay', 'flight_hour', 'wants_extra_baggage', 'wants_preferred_seat', 'wants_in_flight_meals', 'flight_duration', 'booking_complete']\n",
      "\n",
      "We have 5 categorical features : ['sales_channel', 'trip_type', 'flight_day', 'route', 'booking_origin']\n"
     ]
    }
   ],
   "source": [
    "# define numerical and caetgorical columns\n",
    "\n",
    "numeric_features=[feature for feature in df.columns if df[feature].dtype != 'O']\n",
    "categorical_features=[feature for feature in df.columns if df[feature].dtype == 'O']\n",
    "\n",
    "#print columns\n",
    "\n",
    "print('We have {} numerical features : {}'.format(len(numeric_features), numeric_features))\n",
    "print('\\nWe have {} categorical features : {}'.format(len(categorical_features), categorical_features))"
   ]
  },
  {
   "cell_type": "markdown",
   "id": "3b0cf6ba-4c42-4e98-9906-38c52eccecb5",
   "metadata": {},
   "source": [
    "### Sales Channel"
   ]
  },
  {
   "cell_type": "code",
   "execution_count": 16,
   "id": "88db3bb9-1239-43fc-b02d-eb5691ac1c15",
   "metadata": {},
   "outputs": [
    {
     "data": {
      "text/plain": [
       "sales_channel\n",
       "Internet    44382\n",
       "Mobile       5618\n",
       "Name: count, dtype: int64"
      ]
     },
     "execution_count": 16,
     "metadata": {},
     "output_type": "execute_result"
    }
   ],
   "source": [
    "# Count bookings by sales channel\n",
    "channel_counts=df['sales_channel'].value_counts()\n",
    "channel_counts"
   ]
  },
  {
   "cell_type": "code",
   "execution_count": 18,
   "id": "7aad4ffb-6e34-4894-88ca-b38ffd0f73de",
   "metadata": {},
   "outputs": [
    {
     "name": "stdout",
     "output_type": "stream",
     "text": [
      "Percentage of bookings through Internet: 88.76%\n",
      "Percentage of bookings through Phone call: 11.24%\n"
     ]
    }
   ],
   "source": [
    "#calculate percentages\n",
    "total_bookings=channel_counts.sum()\n",
    "percentage_internet=(channel_counts['Internet'] / total_bookings) * 100\n",
    "percentage_phone=(channel_counts['Mobile'] / total_bookings) * 100\n",
    "\n",
    "print(f'Percentage of bookings through Internet: {percentage_internet:.2f}%')\n",
    "print(f'Percentage of bookings through Phone call: {percentage_phone:.2f}%')"
   ]
  },
  {
   "cell_type": "markdown",
   "id": "ce733a3a-da6b-4078-9403-a971fd08a2ed",
   "metadata": {},
   "source": [
    "### Trip Type"
   ]
  },
  {
   "cell_type": "code",
   "execution_count": 36,
   "id": "d18f5a9f-39cc-4356-98a3-41835fb5391a",
   "metadata": {},
   "outputs": [
    {
     "data": {
      "text/plain": [
       "trip_type\n",
       "RoundTrip     49497\n",
       "OneWay          387\n",
       "CircleTrip      116\n",
       "Name: count, dtype: int64"
      ]
     },
     "execution_count": 36,
     "metadata": {},
     "output_type": "execute_result"
    }
   ],
   "source": [
    "df.trip_type.value_counts()"
   ]
  },
  {
   "cell_type": "code",
   "execution_count": 27,
   "id": "4270b89a-49ca-46d4-a3b8-311dd0b44244",
   "metadata": {},
   "outputs": [],
   "source": [
    "per_round = df.trip_type.value_counts().values[0]/ df.trip_type.count() *100\n",
    "per_oneway = df.trip_type.value_counts().values[1]/ df.trip_type.count() *100\n",
    "per_circle = df.trip_type.value_counts().values[2]/ df.trip_type.count() *100"
   ]
  },
  {
   "cell_type": "code",
   "execution_count": 38,
   "id": "b60d33ec-b37f-4f1b-a2bf-c0cc8258af93",
   "metadata": {},
   "outputs": [
    {
     "name": "stdout",
     "output_type": "stream",
     "text": [
      "Percentage of round trips: 98.99 %\n",
      "Percentage of One way trips: 0.77 %\n",
      "Percentage of circle trips: 0.23 %\n"
     ]
    }
   ],
   "source": [
    "print(f\"Percentage of round trips: {per_round:.2f} %\")\n",
    "print(f\"Percentage of One way trips: {per_oneway:.2f} %\")\n",
    "print(f\"Percentage of circle trips: {per_circle:.2f} %\")"
   ]
  },
  {
   "cell_type": "code",
   "execution_count": 40,
   "id": "e371e7ee-a1e0-4b2f-85ce-2db92b709597",
   "metadata": {},
   "outputs": [
    {
     "name": "stdout",
     "output_type": "stream",
     "text": [
      "Completion rate for RoundTrip: 15.06%\n",
      "Completion rate for OneWay: 5.17%\n",
      "Completion rate for CircleTrip: 4.31%\n"
     ]
    }
   ],
   "source": [
    "# Comparing the booking completion rates for different trip types\n",
    "\n",
    "round_trip_completed = df[df['trip_type'] == 'RoundTrip']['booking_complete'].mean() * 100\n",
    "one_way_completed = df[df['trip_type'] == 'OneWay']['booking_complete'].mean() * 100\n",
    "CircleTrip_completed = df[df['trip_type'] == 'CircleTrip']['booking_complete'].mean() * 100\n",
    "\n",
    "print(f\"Completion rate for RoundTrip: {round_trip_completed:.2f}%\")\n",
    "print(f\"Completion rate for OneWay: {one_way_completed:.2f}%\")\n",
    "print(f\"Completion rate for CircleTrip: {CircleTrip_completed :.2f}%\")"
   ]
  },
  {
   "cell_type": "markdown",
   "id": "c23b11f7-2dc7-40ae-9eac-e3609df6e964",
   "metadata": {},
   "source": [
    "#### Insight:\n",
    "\n",
    "- Round-trip bookings have a higher completion rate compared to one-way and circle-trip bookings\n"
   ]
  },
  {
   "cell_type": "markdown",
   "id": "6a9474a5-f474-4ab0-a2a5-dd44a96b1259",
   "metadata": {},
   "source": [
    "## Lenght of Stay"
   ]
  },
  {
   "cell_type": "code",
   "execution_count": 59,
   "id": "dcf9a14f-8c94-4865-8090-0c5d8286878e",
   "metadata": {},
   "outputs": [
    {
     "data": {
      "text/plain": [
       "<Axes: xlabel='length_of_stay', ylabel='Count'>"
      ]
     },
     "execution_count": 59,
     "metadata": {},
     "output_type": "execute_result"
    },
    {
     "data": {
      "image/png": "[encoded data removed]",
      "text/plain": [
       "<Figure size 700x500 with 1 Axes>"
      ]
     },
     "metadata": {},
     "output_type": "display_data"
    }
   ],
   "source": [
    "plt.figure(figsize=(7,5))\n",
    "sns.histplot(data=df, x=\"length_of_stay\", binwidth=15,kde=True)"
   ]
  },
  {
   "cell_type": "markdown",
   "id": "2a442d82-532d-4f20-b5d9-7ad75f5b704b",
   "metadata": {},
   "source": [
    "Let's see how many entries do we have that exceeds length of stay more than 100 days."
   ]
  },
  {
   "cell_type": "code",
   "execution_count": 63,
   "id": "77566505-4ea6-4892-ae43-f6bc3451e8ef",
   "metadata": {},
   "outputs": [
    {
     "data": {
      "text/plain": [
       "length_of_stay\n",
       "False    49721\n",
       "True       279\n",
       "Name: count, dtype: int64"
      ]
     },
     "execution_count": 63,
     "metadata": {},
     "output_type": "execute_result"
    }
   ],
   "source": [
    "(df.length_of_stay> 200).value_counts()"
   ]
  },
  {
   "cell_type": "code",
   "execution_count": 65,
   "id": "bdeb5d42-f222-4c06-b659-d98fedb46e65",
   "metadata": {},
   "outputs": [
    {
     "data": {
      "text/plain": [
       "booking_complete\n",
       "0    9\n",
       "1    1\n",
       "Name: count, dtype: int64"
      ]
     },
     "execution_count": 65,
     "metadata": {},
     "output_type": "execute_result"
    }
   ],
   "source": [
    "df[df.length_of_stay> 500].booking_complete.value_counts()"
   ]
  },
  {
   "cell_type": "markdown",
   "id": "39a30d7d-c566-4382-85dc-5d7b53ce4e97",
   "metadata": {},
   "source": [
    "We need to have more business knowledge to decide whether to remove these entries with more than 600 days of stay. There are could be many reasons for such bookings. But for now, we will just want to focus on bookings done for length of stay less than 500 days."
   ]
  },
  {
   "cell_type": "markdown",
   "id": "b05ac5e7-36a9-45ed-84b6-b731d5bc052f",
   "metadata": {},
   "source": [
    "### Flight day"
   ]
  },
  {
   "cell_type": "markdown",
   "id": "837369d9-3fbd-456a-ae94-9389cad0d6a3",
   "metadata": {},
   "source": [
    "We will map the flight day with a number of a week."
   ]
  },
  {
   "cell_type": "code",
   "execution_count": 76,
   "id": "a8179db0-cc2d-4f72-98ab-2908d529bca9",
   "metadata": {},
   "outputs": [],
   "source": [
    "mapping = {\n",
    "    \"Mon\" : 1,\n",
    "    \"Tue\" : 2,\n",
    "    \"Wed\" : 3,\n",
    "    \"Thu\" : 4,\n",
    "    \"Fri\" : 5,\n",
    "    \"Sat\" : 6,\n",
    "    \"Sun\" : 7\n",
    "}\n",
    "\n",
    "df.flight_day = df.flight_day.map(mapping)"
   ]
  },
  {
   "cell_type": "code",
   "execution_count": 78,
   "id": "4e82d638-1526-427c-adb8-cec70baf1fc3",
   "metadata": {},
   "outputs": [
    {
     "data": {
      "text/plain": [
       "flight_day\n",
       "1    8102\n",
       "3    7674\n",
       "2    7673\n",
       "4    7424\n",
       "5    6761\n",
       "7    6554\n",
       "6    5812\n",
       "Name: count, dtype: int64"
      ]
     },
     "execution_count": 78,
     "metadata": {},
     "output_type": "execute_result"
    }
   ],
   "source": [
    "df.flight_day.value_counts()"
   ]
  },
  {
   "cell_type": "markdown",
   "id": "c25fd636-831a-4494-b5a9-ab896145e18c",
   "metadata": {},
   "source": [
    "Most of the customers want to travel on Monday and choose Saturday as least preffered day as flight day."
   ]
  },
  {
   "cell_type": "markdown",
   "id": "c7ad6b7f-3c14-4180-9894-7eecd3cf6da7",
   "metadata": {},
   "source": [
    "### Booking Origin"
   ]
  },
  {
   "cell_type": "code",
   "execution_count": 88,
   "id": "d973edba-cfa5-40c6-9f60-cb15cb1b6e46",
   "metadata": {},
   "outputs": [
    {
     "data": {
      "text/plain": [
       "Text(0, 0.5, 'Number of bookings')"
      ]
     },
     "execution_count": 88,
     "metadata": {},
     "output_type": "execute_result"
    },
    {
     "data": {
      "image/png": "[encoded data removed]",
      "text/plain": [
       "<Figure size 700x500 with 1 Axes>"
      ]
     },
     "metadata": {},
     "output_type": "display_data"
    }
   ],
   "source": [
    "plt.figure(figsize=(7,5))\n",
    "ax = df.booking_origin.value_counts()[:20].plot(kind=\"bar\")\n",
    "ax.set_xlabel(\"Countries\")\n",
    "ax.set_ylabel(\"Number of bookings\")"
   ]
  },
  {
   "cell_type": "markdown",
   "id": "c7d6082d-b710-41c0-8714-d3cc0ac1d411",
   "metadata": {},
   "source": [
    "Above chart shows travellers from which country had maximum booking applications."
   ]
  },
  {
   "cell_type": "code",
   "execution_count": 91,
   "id": "75c36d9f-8b5e-42cc-b2bb-10007d691922",
   "metadata": {},
   "outputs": [
    {
     "data": {
      "text/plain": [
       "Text(0, 0.5, 'Number of complete bookings')"
      ]
     },
     "execution_count": 91,
     "metadata": {},
     "output_type": "execute_result"
    },
    {
     "data": {
      "image/png": "[encoded data removed]",
      "text/plain": [
       "<Figure size 1500x500 with 1 Axes>"
      ]
     },
     "metadata": {},
     "output_type": "display_data"
    }
   ],
   "source": [
    "plt.figure(figsize=(15,5))\n",
    "ax = df[df.booking_complete ==1].booking_origin.value_counts()[:20].plot(kind=\"bar\")\n",
    "ax.set_xlabel(\"Countries\")\n",
    "ax.set_ylabel(\"Number of complete bookings\")"
   ]
  },
  {
   "cell_type": "markdown",
   "id": "3771805b-fd64-49af-a677-c964c030e5d8",
   "metadata": {},
   "source": [
    "Above chart shows travellers from which country had their booking complete."
   ]
  },
  {
   "cell_type": "markdown",
   "id": "dc0254af-909d-411f-9cac-6bd54969299f",
   "metadata": {},
   "source": [
    "### Booking complete"
   ]
  },
  {
   "cell_type": "code",
   "execution_count": 95,
   "id": "e684583d-04f0-46dc-af72-00373eaeff08",
   "metadata": {},
   "outputs": [],
   "source": [
    "successful_booking_per = df.booking_complete.value_counts().values[0] / len(df) * 100"
   ]
  },
  {
   "cell_type": "code",
   "execution_count": 97,
   "id": "a5e1d747-64d0-453a-868d-8963babbaeb4",
   "metadata": {},
   "outputs": [],
   "source": [
    "unsuccessful_booking_per = 100-successful_booking_per"
   ]
  },
  {
   "cell_type": "code",
   "execution_count": 101,
   "id": "694ad7ed-21af-49e6-9719-f6cc4390f59b",
   "metadata": {},
   "outputs": [
    {
     "name": "stdout",
     "output_type": "stream",
     "text": [
      "Out of 49281 booking entries only 14.96 % bookings were successfull or complete.\n"
     ]
    }
   ],
   "source": [
    "print(f\"Out of 49281 booking entries only {round(unsuccessful_booking_per,2)} % bookings were successfull or complete.\")"
   ]
  },
  {
   "cell_type": "code",
   "execution_count": null,
   "id": "6e3dd9ce-de3b-4853-be61-910313eb4201",
   "metadata": {},
   "outputs": [],
   "source": []
  }
 ],
 "metadata": {
  "kernelspec": {
   "display_name": "Python 3 (ipykernel)",
   "language": "python",
   "name": "python3"
  },
  "language_info": {
   "codemirror_mode": {
    "name": "ipython",
    "version": 3
   },
   "file_extension": ".py",
   "mimetype": "text/x-python",
   "name": "python",
   "nbconvert_exporter": "python",
   "pygments_lexer": "ipython3",
   "version": "3.11.7"
  }
 },
 "nbformat": 4,
 "nbformat_minor": 5
}
