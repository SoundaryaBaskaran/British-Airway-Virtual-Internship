{
 "cells": [
  {
   "cell_type": "markdown",
   "id": "7e87e5b5-6adf-4753-8bd2-d9a1652c9e6d",
   "metadata": {},
   "source": [
    "# Model Training"
   ]
  },
  {
   "cell_type": "code",
   "execution_count": 85,
   "id": "82844067-7e81-4547-a43a-38c9e3ab52de",
   "metadata": {},
   "outputs": [],
   "source": [
    "import numpy as np\n",
    "import pandas as pd\n",
    "import matplotlib.pyplot as plt \n",
    "import seaborn as sns\n",
    "import os\n",
    "\n",
    "import warnings\n",
    "warnings.filterwarnings('ignore')"
   ]
  },
  {
   "cell_type": "markdown",
   "id": "fa7b7d7c-31ee-4142-b6cf-61e90c91927e",
   "metadata": {},
   "source": [
    "#### Import the CSV Data as Pandas DataFrame"
   ]
  },
  {
   "cell_type": "code",
   "execution_count": 87,
   "id": "96697f43-8922-45bc-a6a9-443896784714",
   "metadata": {},
   "outputs": [],
   "source": [
    "#get current working directory\n",
    "cwd = os.getcwd()\n",
    "\n",
    "#read the csv\n",
    "df = pd.read_csv(cwd + \"/customer_booking.csv\",  encoding=\"ISO-8859-1\")"
   ]
  },
  {
   "cell_type": "code",
   "execution_count": 7,
   "id": "d66379b7-4e09-44f1-a454-4008f83afb93",
   "metadata": {},
   "outputs": [
    {
     "data": {
      "text/html": [
       "<div>\n",
       "<style scoped>\n",
       "    .dataframe tbody tr th:only-of-type {\n",
       "        vertical-align: middle;\n",
       "    }\n",
       "\n",
       "    .dataframe tbody tr th {\n",
       "        vertical-align: top;\n",
       "    }\n",
       "\n",
       "    .dataframe thead th {\n",
       "        text-align: right;\n",
       "    }\n",
       "</style>\n",
       "<table border=\"1\" class=\"dataframe\">\n",
       "  <thead>\n",
       "    <tr style=\"text-align: right;\">\n",
       "      <th></th>\n",
       "      <th>num_passengers</th>\n",
       "      <th>sales_channel</th>\n",
       "      <th>trip_type</th>\n",
       "      <th>purchase_lead</th>\n",
       "      <th>length_of_stay</th>\n",
       "      <th>flight_hour</th>\n",
       "      <th>flight_day</th>\n",
       "      <th>route</th>\n",
       "      <th>booking_origin</th>\n",
       "      <th>wants_extra_baggage</th>\n",
       "      <th>wants_preferred_seat</th>\n",
       "      <th>wants_in_flight_meals</th>\n",
       "      <th>flight_duration</th>\n",
       "      <th>booking_complete</th>\n",
       "    </tr>\n",
       "  </thead>\n",
       "  <tbody>\n",
       "    <tr>\n",
       "      <th>0</th>\n",
       "      <td>2</td>\n",
       "      <td>Internet</td>\n",
       "      <td>RoundTrip</td>\n",
       "      <td>262</td>\n",
       "      <td>19</td>\n",
       "      <td>7</td>\n",
       "      <td>Sat</td>\n",
       "      <td>AKLDEL</td>\n",
       "      <td>New Zealand</td>\n",
       "      <td>1</td>\n",
       "      <td>0</td>\n",
       "      <td>0</td>\n",
       "      <td>5.52</td>\n",
       "      <td>0</td>\n",
       "    </tr>\n",
       "    <tr>\n",
       "      <th>1</th>\n",
       "      <td>1</td>\n",
       "      <td>Internet</td>\n",
       "      <td>RoundTrip</td>\n",
       "      <td>112</td>\n",
       "      <td>20</td>\n",
       "      <td>3</td>\n",
       "      <td>Sat</td>\n",
       "      <td>AKLDEL</td>\n",
       "      <td>New Zealand</td>\n",
       "      <td>0</td>\n",
       "      <td>0</td>\n",
       "      <td>0</td>\n",
       "      <td>5.52</td>\n",
       "      <td>0</td>\n",
       "    </tr>\n",
       "    <tr>\n",
       "      <th>2</th>\n",
       "      <td>2</td>\n",
       "      <td>Internet</td>\n",
       "      <td>RoundTrip</td>\n",
       "      <td>243</td>\n",
       "      <td>22</td>\n",
       "      <td>17</td>\n",
       "      <td>Wed</td>\n",
       "      <td>AKLDEL</td>\n",
       "      <td>India</td>\n",
       "      <td>1</td>\n",
       "      <td>1</td>\n",
       "      <td>0</td>\n",
       "      <td>5.52</td>\n",
       "      <td>0</td>\n",
       "    </tr>\n",
       "    <tr>\n",
       "      <th>3</th>\n",
       "      <td>1</td>\n",
       "      <td>Internet</td>\n",
       "      <td>RoundTrip</td>\n",
       "      <td>96</td>\n",
       "      <td>31</td>\n",
       "      <td>4</td>\n",
       "      <td>Sat</td>\n",
       "      <td>AKLDEL</td>\n",
       "      <td>New Zealand</td>\n",
       "      <td>0</td>\n",
       "      <td>0</td>\n",
       "      <td>1</td>\n",
       "      <td>5.52</td>\n",
       "      <td>0</td>\n",
       "    </tr>\n",
       "    <tr>\n",
       "      <th>4</th>\n",
       "      <td>2</td>\n",
       "      <td>Internet</td>\n",
       "      <td>RoundTrip</td>\n",
       "      <td>68</td>\n",
       "      <td>22</td>\n",
       "      <td>15</td>\n",
       "      <td>Wed</td>\n",
       "      <td>AKLDEL</td>\n",
       "      <td>India</td>\n",
       "      <td>1</td>\n",
       "      <td>0</td>\n",
       "      <td>1</td>\n",
       "      <td>5.52</td>\n",
       "      <td>0</td>\n",
       "    </tr>\n",
       "  </tbody>\n",
       "</table>\n",
       "</div>"
      ],
      "text/plain": [
       "   num_passengers sales_channel  trip_type  purchase_lead  length_of_stay  \\\n",
       "0               2      Internet  RoundTrip            262              19   \n",
       "1               1      Internet  RoundTrip            112              20   \n",
       "2               2      Internet  RoundTrip            243              22   \n",
       "3               1      Internet  RoundTrip             96              31   \n",
       "4               2      Internet  RoundTrip             68              22   \n",
       "\n",
       "   flight_hour flight_day   route booking_origin  wants_extra_baggage  \\\n",
       "0            7        Sat  AKLDEL    New Zealand                    1   \n",
       "1            3        Sat  AKLDEL    New Zealand                    0   \n",
       "2           17        Wed  AKLDEL          India                    1   \n",
       "3            4        Sat  AKLDEL    New Zealand                    0   \n",
       "4           15        Wed  AKLDEL          India                    1   \n",
       "\n",
       "   wants_preferred_seat  wants_in_flight_meals  flight_duration  \\\n",
       "0                     0                      0             5.52   \n",
       "1                     0                      0             5.52   \n",
       "2                     1                      0             5.52   \n",
       "3                     0                      1             5.52   \n",
       "4                     0                      1             5.52   \n",
       "\n",
       "   booking_complete  \n",
       "0                 0  \n",
       "1                 0  \n",
       "2                 0  \n",
       "3                 0  \n",
       "4                 0  "
      ]
     },
     "execution_count": 7,
     "metadata": {},
     "output_type": "execute_result"
    }
   ],
   "source": [
    "df.head()"
   ]
  },
  {
   "cell_type": "code",
   "execution_count": 8,
   "id": "defecec5-d5d1-4190-91d0-510b3a637e45",
   "metadata": {},
   "outputs": [],
   "source": [
    "df_final = df.copy()"
   ]
  },
  {
   "cell_type": "code",
   "execution_count": 9,
   "id": "edb966bd-1329-40de-86f2-4f8781bc1a84",
   "metadata": {},
   "outputs": [],
   "source": [
    "df_final.drop(columns=['route','booking_origin'], axis=1, inplace=True)"
   ]
  },
  {
   "cell_type": "code",
   "execution_count": 10,
   "id": "65696b7b-d2a4-426e-976b-6f65a3f810e7",
   "metadata": {},
   "outputs": [
    {
     "data": {
      "text/html": [
       "<div>\n",
       "<style scoped>\n",
       "    .dataframe tbody tr th:only-of-type {\n",
       "        vertical-align: middle;\n",
       "    }\n",
       "\n",
       "    .dataframe tbody tr th {\n",
       "        vertical-align: top;\n",
       "    }\n",
       "\n",
       "    .dataframe thead th {\n",
       "        text-align: right;\n",
       "    }\n",
       "</style>\n",
       "<table border=\"1\" class=\"dataframe\">\n",
       "  <thead>\n",
       "    <tr style=\"text-align: right;\">\n",
       "      <th></th>\n",
       "      <th>num_passengers</th>\n",
       "      <th>sales_channel</th>\n",
       "      <th>trip_type</th>\n",
       "      <th>purchase_lead</th>\n",
       "      <th>length_of_stay</th>\n",
       "      <th>flight_hour</th>\n",
       "      <th>flight_day</th>\n",
       "      <th>wants_extra_baggage</th>\n",
       "      <th>wants_preferred_seat</th>\n",
       "      <th>wants_in_flight_meals</th>\n",
       "      <th>flight_duration</th>\n",
       "      <th>booking_complete</th>\n",
       "    </tr>\n",
       "  </thead>\n",
       "  <tbody>\n",
       "    <tr>\n",
       "      <th>0</th>\n",
       "      <td>2</td>\n",
       "      <td>Internet</td>\n",
       "      <td>RoundTrip</td>\n",
       "      <td>262</td>\n",
       "      <td>19</td>\n",
       "      <td>7</td>\n",
       "      <td>Sat</td>\n",
       "      <td>1</td>\n",
       "      <td>0</td>\n",
       "      <td>0</td>\n",
       "      <td>5.52</td>\n",
       "      <td>0</td>\n",
       "    </tr>\n",
       "    <tr>\n",
       "      <th>1</th>\n",
       "      <td>1</td>\n",
       "      <td>Internet</td>\n",
       "      <td>RoundTrip</td>\n",
       "      <td>112</td>\n",
       "      <td>20</td>\n",
       "      <td>3</td>\n",
       "      <td>Sat</td>\n",
       "      <td>0</td>\n",
       "      <td>0</td>\n",
       "      <td>0</td>\n",
       "      <td>5.52</td>\n",
       "      <td>0</td>\n",
       "    </tr>\n",
       "    <tr>\n",
       "      <th>2</th>\n",
       "      <td>2</td>\n",
       "      <td>Internet</td>\n",
       "      <td>RoundTrip</td>\n",
       "      <td>243</td>\n",
       "      <td>22</td>\n",
       "      <td>17</td>\n",
       "      <td>Wed</td>\n",
       "      <td>1</td>\n",
       "      <td>1</td>\n",
       "      <td>0</td>\n",
       "      <td>5.52</td>\n",
       "      <td>0</td>\n",
       "    </tr>\n",
       "    <tr>\n",
       "      <th>3</th>\n",
       "      <td>1</td>\n",
       "      <td>Internet</td>\n",
       "      <td>RoundTrip</td>\n",
       "      <td>96</td>\n",
       "      <td>31</td>\n",
       "      <td>4</td>\n",
       "      <td>Sat</td>\n",
       "      <td>0</td>\n",
       "      <td>0</td>\n",
       "      <td>1</td>\n",
       "      <td>5.52</td>\n",
       "      <td>0</td>\n",
       "    </tr>\n",
       "    <tr>\n",
       "      <th>4</th>\n",
       "      <td>2</td>\n",
       "      <td>Internet</td>\n",
       "      <td>RoundTrip</td>\n",
       "      <td>68</td>\n",
       "      <td>22</td>\n",
       "      <td>15</td>\n",
       "      <td>Wed</td>\n",
       "      <td>1</td>\n",
       "      <td>0</td>\n",
       "      <td>1</td>\n",
       "      <td>5.52</td>\n",
       "      <td>0</td>\n",
       "    </tr>\n",
       "  </tbody>\n",
       "</table>\n",
       "</div>"
      ],
      "text/plain": [
       "   num_passengers sales_channel  trip_type  purchase_lead  length_of_stay  \\\n",
       "0               2      Internet  RoundTrip            262              19   \n",
       "1               1      Internet  RoundTrip            112              20   \n",
       "2               2      Internet  RoundTrip            243              22   \n",
       "3               1      Internet  RoundTrip             96              31   \n",
       "4               2      Internet  RoundTrip             68              22   \n",
       "\n",
       "   flight_hour flight_day  wants_extra_baggage  wants_preferred_seat  \\\n",
       "0            7        Sat                    1                     0   \n",
       "1            3        Sat                    0                     0   \n",
       "2           17        Wed                    1                     1   \n",
       "3            4        Sat                    0                     0   \n",
       "4           15        Wed                    1                     0   \n",
       "\n",
       "   wants_in_flight_meals  flight_duration  booking_complete  \n",
       "0                      0             5.52                 0  \n",
       "1                      0             5.52                 0  \n",
       "2                      0             5.52                 0  \n",
       "3                      1             5.52                 0  \n",
       "4                      1             5.52                 0  "
      ]
     },
     "execution_count": 10,
     "metadata": {},
     "output_type": "execute_result"
    }
   ],
   "source": [
    "df_final.head()"
   ]
  },
  {
   "cell_type": "markdown",
   "id": "f30c43f7-6175-4acf-9e89-1dcd553247d3",
   "metadata": {},
   "source": [
    "### Preparing X and Y variables"
   ]
  },
  {
   "cell_type": "code",
   "execution_count": 12,
   "id": "8c5361ab-1efa-497c-a7a4-f9109e15547d",
   "metadata": {},
   "outputs": [],
   "source": [
    "X = df_final.drop(columns=['booking_complete'],axis=1)"
   ]
  },
  {
   "cell_type": "code",
   "execution_count": 13,
   "id": "60d3d327-4072-44d6-aea9-aff39b0f0069",
   "metadata": {},
   "outputs": [
    {
     "data": {
      "text/html": [
       "<div>\n",
       "<style scoped>\n",
       "    .dataframe tbody tr th:only-of-type {\n",
       "        vertical-align: middle;\n",
       "    }\n",
       "\n",
       "    .dataframe tbody tr th {\n",
       "        vertical-align: top;\n",
       "    }\n",
       "\n",
       "    .dataframe thead th {\n",
       "        text-align: right;\n",
       "    }\n",
       "</style>\n",
       "<table border=\"1\" class=\"dataframe\">\n",
       "  <thead>\n",
       "    <tr style=\"text-align: right;\">\n",
       "      <th></th>\n",
       "      <th>num_passengers</th>\n",
       "      <th>sales_channel</th>\n",
       "      <th>trip_type</th>\n",
       "      <th>purchase_lead</th>\n",
       "      <th>length_of_stay</th>\n",
       "      <th>flight_hour</th>\n",
       "      <th>flight_day</th>\n",
       "      <th>wants_extra_baggage</th>\n",
       "      <th>wants_preferred_seat</th>\n",
       "      <th>wants_in_flight_meals</th>\n",
       "      <th>flight_duration</th>\n",
       "    </tr>\n",
       "  </thead>\n",
       "  <tbody>\n",
       "    <tr>\n",
       "      <th>0</th>\n",
       "      <td>2</td>\n",
       "      <td>Internet</td>\n",
       "      <td>RoundTrip</td>\n",
       "      <td>262</td>\n",
       "      <td>19</td>\n",
       "      <td>7</td>\n",
       "      <td>Sat</td>\n",
       "      <td>1</td>\n",
       "      <td>0</td>\n",
       "      <td>0</td>\n",
       "      <td>5.52</td>\n",
       "    </tr>\n",
       "    <tr>\n",
       "      <th>1</th>\n",
       "      <td>1</td>\n",
       "      <td>Internet</td>\n",
       "      <td>RoundTrip</td>\n",
       "      <td>112</td>\n",
       "      <td>20</td>\n",
       "      <td>3</td>\n",
       "      <td>Sat</td>\n",
       "      <td>0</td>\n",
       "      <td>0</td>\n",
       "      <td>0</td>\n",
       "      <td>5.52</td>\n",
       "    </tr>\n",
       "    <tr>\n",
       "      <th>2</th>\n",
       "      <td>2</td>\n",
       "      <td>Internet</td>\n",
       "      <td>RoundTrip</td>\n",
       "      <td>243</td>\n",
       "      <td>22</td>\n",
       "      <td>17</td>\n",
       "      <td>Wed</td>\n",
       "      <td>1</td>\n",
       "      <td>1</td>\n",
       "      <td>0</td>\n",
       "      <td>5.52</td>\n",
       "    </tr>\n",
       "    <tr>\n",
       "      <th>3</th>\n",
       "      <td>1</td>\n",
       "      <td>Internet</td>\n",
       "      <td>RoundTrip</td>\n",
       "      <td>96</td>\n",
       "      <td>31</td>\n",
       "      <td>4</td>\n",
       "      <td>Sat</td>\n",
       "      <td>0</td>\n",
       "      <td>0</td>\n",
       "      <td>1</td>\n",
       "      <td>5.52</td>\n",
       "    </tr>\n",
       "    <tr>\n",
       "      <th>4</th>\n",
       "      <td>2</td>\n",
       "      <td>Internet</td>\n",
       "      <td>RoundTrip</td>\n",
       "      <td>68</td>\n",
       "      <td>22</td>\n",
       "      <td>15</td>\n",
       "      <td>Wed</td>\n",
       "      <td>1</td>\n",
       "      <td>0</td>\n",
       "      <td>1</td>\n",
       "      <td>5.52</td>\n",
       "    </tr>\n",
       "  </tbody>\n",
       "</table>\n",
       "</div>"
      ],
      "text/plain": [
       "   num_passengers sales_channel  trip_type  purchase_lead  length_of_stay  \\\n",
       "0               2      Internet  RoundTrip            262              19   \n",
       "1               1      Internet  RoundTrip            112              20   \n",
       "2               2      Internet  RoundTrip            243              22   \n",
       "3               1      Internet  RoundTrip             96              31   \n",
       "4               2      Internet  RoundTrip             68              22   \n",
       "\n",
       "   flight_hour flight_day  wants_extra_baggage  wants_preferred_seat  \\\n",
       "0            7        Sat                    1                     0   \n",
       "1            3        Sat                    0                     0   \n",
       "2           17        Wed                    1                     1   \n",
       "3            4        Sat                    0                     0   \n",
       "4           15        Wed                    1                     0   \n",
       "\n",
       "   wants_in_flight_meals  flight_duration  \n",
       "0                      0             5.52  \n",
       "1                      0             5.52  \n",
       "2                      0             5.52  \n",
       "3                      1             5.52  \n",
       "4                      1             5.52  "
      ]
     },
     "execution_count": 13,
     "metadata": {},
     "output_type": "execute_result"
    }
   ],
   "source": [
    "X.head()"
   ]
  },
  {
   "cell_type": "code",
   "execution_count": 14,
   "id": "4ffe721a-fa0c-4877-ad23-6a7e1dd1f815",
   "metadata": {},
   "outputs": [],
   "source": [
    "y = df_final['booking_complete']"
   ]
  },
  {
   "cell_type": "code",
   "execution_count": 15,
   "id": "dad607de-2079-43c7-bd68-3987f398c8f2",
   "metadata": {},
   "outputs": [
    {
     "data": {
      "text/plain": [
       "booking_complete\n",
       "0    42522\n",
       "1     7478\n",
       "Name: count, dtype: int64"
      ]
     },
     "execution_count": 15,
     "metadata": {},
     "output_type": "execute_result"
    }
   ],
   "source": [
    "y.value_counts()"
   ]
  },
  {
   "cell_type": "code",
   "execution_count": 16,
   "id": "23817b28-0c20-40d6-9d3d-fd6a0105f89e",
   "metadata": {},
   "outputs": [],
   "source": [
    "from sklearn.preprocessing import OneHotEncoder, StandardScaler\n",
    "from sklearn.compose import ColumnTransformer\n",
    "from sklearn.model_selection import train_test_split\n",
    "\n",
    "# Train test split your data into X_train and X_test\n",
    "X_train, X_test, y_train, y_test = train_test_split(X, y, test_size=0.2, random_state=42)\n",
    "\n",
    "# Define numeric features (exclude object columns)\n",
    "num_features = X_train.select_dtypes(exclude=\"object\").columns\n",
    "\n",
    "# Define categorical features (include only object columns)\n",
    "cat_features = X_train.select_dtypes(include=\"object\").columns\n",
    "\n",
    "# Initialize transformers\n",
    "numeric_transformer = StandardScaler()\n",
    "oh_transformer = OneHotEncoder(handle_unknown='ignore')\n",
    "\n",
    "# Create a preprocessor using ColumnTransformer\n",
    "preprocessor = ColumnTransformer(\n",
    "    transformers=[\n",
    "        (\"OneHotEncoder\", oh_transformer, cat_features),\n",
    "        (\"StandardScaler\", numeric_transformer, num_features)\n",
    "    ],\n",
    "    remainder=\"passthrough\"  # Include any remaining columns as-is\n",
    ")\n",
    "\n",
    "# Fit and transform X_train\n",
    "X_train_encoded = preprocessor.fit_transform(X_train)\n",
    "\n",
    "# Get the feature names after transformation\n",
    "new_columns = preprocessor.get_feature_names_out()\n",
    "\n",
    "# Create a DataFrame with the transformed data and correct column names\n",
    "X_train_encoded = pd.DataFrame(X_train_encoded, columns=new_columns)\n",
    "\n",
    "# Transform X_test (using the preprocessor fitted on X_train)\n",
    "X_test_encoded = preprocessor.transform(X_test)"
   ]
  },
  {
   "cell_type": "code",
   "execution_count": 17,
   "id": "351a1a3c-a622-4180-96fc-d8f7d6030f3a",
   "metadata": {},
   "outputs": [
    {
     "data": {
      "text/plain": [
       "((40000, 11), (10000, 11))"
      ]
     },
     "execution_count": 17,
     "metadata": {},
     "output_type": "execute_result"
    }
   ],
   "source": [
    "X_train.shape, X_test.shape"
   ]
  },
  {
   "cell_type": "code",
   "execution_count": 18,
   "id": "a1e3971d-1fed-461c-a0d1-721f054368b8",
   "metadata": {},
   "outputs": [
    {
     "data": {
      "text/plain": [
       "((40000, 20), (10000, 20))"
      ]
     },
     "execution_count": 18,
     "metadata": {},
     "output_type": "execute_result"
    }
   ],
   "source": [
    "X_train_encoded.shape,X_test_encoded.shape"
   ]
  },
  {
   "cell_type": "markdown",
   "id": "831b412c-a85b-4c19-a9d4-f4c3949817b4",
   "metadata": {},
   "source": [
    "Time to apply some changes on our training dataset:"
   ]
  },
  {
   "cell_type": "markdown",
   "id": "27ccb537-9d93-4ee1-ae0a-b4a13cc65ec9",
   "metadata": {},
   "source": [
    "#### Oversampling and undersampling using SMOTE-RUS Implementation"
   ]
  },
  {
   "cell_type": "code",
   "execution_count": 21,
   "id": "3d4691a6-b4c4-4df4-b4a1-95eaf581c88d",
   "metadata": {},
   "outputs": [],
   "source": [
    "from imblearn.over_sampling import SMOTE\n",
    "from imblearn.under_sampling import RandomUnderSampler\n",
    "from imblearn.pipeline import Pipeline\n",
    "\n",
    "over=SMOTE()\n",
    "under=RandomUnderSampler()\n",
    "steps=[('o', over), ('u', under)]\n",
    "pipeline=Pipeline(steps=steps)\n",
    "\n",
    "#transform the dataset using the SMOTE-RUS technique\n",
    "X_train_new, y_train_new = pipeline.fit_resample(X_train_encoded, y_train)"
   ]
  },
  {
   "cell_type": "code",
   "execution_count": 22,
   "id": "dcf18c45-a21e-4462-9e56-dd03fbaf8060",
   "metadata": {},
   "outputs": [
    {
     "name": "stdout",
     "output_type": "stream",
     "text": [
      "Data has been balanced from both the classes \n",
      " booking_complete\n",
      "0    34002\n",
      "1    34002\n",
      "Name: count, dtype: int64\n"
     ]
    }
   ],
   "source": [
    "print('Data has been balanced from both the classes \\n', y_train_new.value_counts())"
   ]
  },
  {
   "cell_type": "markdown",
   "id": "05987fa5-0cbb-417f-9db2-9c8de5de8a13",
   "metadata": {},
   "source": [
    "## Model Training"
   ]
  },
  {
   "cell_type": "markdown",
   "id": "5e2edacc-dc57-420e-8c07-cba9ebd5eb7a",
   "metadata": {},
   "source": [
    "### 1) RandomForest Classifier"
   ]
  },
  {
   "cell_type": "markdown",
   "id": "fdb62f7a-80ae-4871-a857-e43cb4ad8e42",
   "metadata": {},
   "source": [
    "#### 1.1 fitting the model scaled and oversampled dataset"
   ]
  },
  {
   "cell_type": "code",
   "execution_count": 26,
   "id": "0e116e93-7391-4722-8ff4-9f7bd2283137",
   "metadata": {},
   "outputs": [],
   "source": [
    "from sklearn.ensemble import RandomForestClassifier\n",
    "\n",
    "model1= RandomForestClassifier(max_depth =20 , criterion='gini', min_samples_split=5,random_state=0)\n",
    "model1=model1.fit(X_train_new,y_train_new)"
   ]
  },
  {
   "cell_type": "code",
   "execution_count": 27,
   "id": "fe66773a-8676-4e5f-9d45-55096ff13efd",
   "metadata": {},
   "outputs": [],
   "source": [
    "y_pred = model1.predict(X_test_encoded)"
   ]
  },
  {
   "cell_type": "code",
   "execution_count": 28,
   "id": "05425f8b-556e-4d67-8952-e77b74ec0685",
   "metadata": {},
   "outputs": [
    {
     "data": {
      "text/plain": [
       "booking_complete\n",
       "0    8520\n",
       "1    1480\n",
       "Name: count, dtype: int64"
      ]
     },
     "execution_count": 28,
     "metadata": {},
     "output_type": "execute_result"
    }
   ],
   "source": [
    "y_test.value_counts()"
   ]
  },
  {
   "cell_type": "code",
   "execution_count": 29,
   "id": "bf32fca4-4145-48ab-863e-a82667f15bf6",
   "metadata": {},
   "outputs": [
    {
     "name": "stdout",
     "output_type": "stream",
     "text": [
      "                     precision    recall  f1-score   support\n",
      "\n",
      "  Completed_Booking       0.87      0.91      0.89      8520\n",
      "Uncompleted_Booking       0.31      0.23      0.26      1480\n",
      "\n",
      "           accuracy                           0.81     10000\n",
      "          macro avg       0.59      0.57      0.58     10000\n",
      "       weighted avg       0.79      0.81      0.80     10000\n",
      "\n"
     ]
    }
   ],
   "source": [
    "# Print classification report\n",
    "from sklearn.metrics import classification_report\n",
    "\n",
    "target_names=['Completed_Booking', 'Uncompleted_Booking']\n",
    "print(classification_report(y_test, y_pred, target_names=target_names))"
   ]
  },
  {
   "cell_type": "code",
   "execution_count": 30,
   "id": "1022aaa3-83ef-4905-a016-80420f2fb237",
   "metadata": {},
   "outputs": [
    {
     "data": {
      "image/png": "[encoded data removed]",
      "text/plain": [
       "<Figure size 640x480 with 2 Axes>"
      ]
     },
     "metadata": {},
     "output_type": "display_data"
    }
   ],
   "source": [
    "# Confusion matrix\n",
    "from sklearn.metrics import confusion_matrix, ConfusionMatrixDisplay\n",
    "\n",
    "cm = confusion_matrix(y_test, y_pred)\n",
    "disp = ConfusionMatrixDisplay(confusion_matrix=cm)\n",
    "disp.plot()\n",
    "plt.show()"
   ]
  },
  {
   "cell_type": "markdown",
   "id": "0c5d511a-3eb7-4aca-88a9-4e885ca76205",
   "metadata": {},
   "source": [
    "### 2. XgBoost Classifier"
   ]
  },
  {
   "cell_type": "markdown",
   "id": "bd3bb294-be7d-4e82-bb9f-b07540923e73",
   "metadata": {},
   "source": [
    "#### 2.1 fitting the model scaled and oversampled dataset"
   ]
  },
  {
   "cell_type": "markdown",
   "id": "7d7aba99-edb5-48ec-b84b-0e345f9832b4",
   "metadata": {},
   "source": [
    "#### A. XGBoost with GridSearch"
   ]
  },
  {
   "cell_type": "code",
   "execution_count": 34,
   "id": "2fc8cdab-8779-4fce-a220-95065ece547f",
   "metadata": {},
   "outputs": [
    {
     "name": "stdout",
     "output_type": "stream",
     "text": [
      "Best parameters: {'learning_rate': 0.2, 'max_depth': 7, 'n_estimators': 300}\n",
      "Accuracy: 0.8437\n"
     ]
    }
   ],
   "source": [
    "from sklearn.model_selection import GridSearchCV\n",
    "from xgboost import XGBClassifier\n",
    "from sklearn.metrics import accuracy_score\n",
    "\n",
    "# Define your parameter grid\n",
    "param_grid = {\n",
    "  'learning_rate': [0.01, 0.1, 0.2],\n",
    "  'max_depth': [3, 5, 7],\n",
    "  'n_estimators': [100, 200, 300]\n",
    "}\n",
    "\n",
    "# Initialize XGBoost model\n",
    "xgb_model = XGBClassifier()\n",
    "\n",
    "# Perform grid search with cross-validation\n",
    "grid_search = GridSearchCV(estimator=xgb_model, param_grid=param_grid, cv=5)\n",
    "grid_search.fit(X_train_new, y_train_new)  \n",
    "\n",
    "# Get best parameters\n",
    "best_params = grid_search.best_params_\n",
    "print(\"Best parameters:\", best_params)\n",
    "\n",
    "# Make predictions on test data\n",
    "y_pred = grid_search.predict(X_test_encoded)\n",
    "\n",
    "# Evaluate model performance with a classification metric\n",
    "accuracy = accuracy_score(y_test, y_pred)\n",
    "print(f\"Accuracy: {accuracy}\")"
   ]
  },
  {
   "cell_type": "code",
   "execution_count": 35,
   "id": "84633134-6b5c-470f-a79e-221dd23d3ce4",
   "metadata": {},
   "outputs": [
    {
     "name": "stdout",
     "output_type": "stream",
     "text": [
      "                     precision    recall  f1-score   support\n",
      "\n",
      "  Completed_Booking       0.86      0.98      0.91      8520\n",
      "Uncompleted_Booking       0.37      0.08      0.13      1480\n",
      "\n",
      "           accuracy                           0.84     10000\n",
      "          macro avg       0.61      0.53      0.52     10000\n",
      "       weighted avg       0.79      0.84      0.80     10000\n",
      "\n"
     ]
    }
   ],
   "source": [
    "from sklearn.metrics import classification_report\n",
    "\n",
    "# Convert continuous predictions to binary labels\n",
    "y_pred_binary = (y_pred > 0.5).astype(int)\n",
    "\n",
    "target_names = ['Completed_Booking', 'Uncompleted_Booking']\n",
    "print(classification_report(y_test, y_pred, target_names=target_names))\n"
   ]
  },
  {
   "cell_type": "code",
   "execution_count": 36,
   "id": "922f466a-acf1-42cd-84a2-daebc1c8735a",
   "metadata": {},
   "outputs": [],
   "source": [
    "from sklearn.metrics import roc_curve, auc\n",
    "\n",
    "# Get predicted probabilities for all classes and Extract only the probabilities for the positive class (class 1)\n",
    "grid_search_probs = grid_search.predict_proba(X_test_encoded)[:, 1]\n",
    "\n",
    "# Calculate ROC curve metrics for the grid search model\n",
    "y_test_int = y_test.replace({'Completed_Booking' : 1, 'Uncompleted_Booking': 0})\n",
    "fpr_grid, tpr_grid, thresholds_grid = roc_curve(y_test_int, grid_search_probs)\n",
    "auc_grid = auc(fpr_grid, tpr_grid)\n"
   ]
  },
  {
   "cell_type": "markdown",
   "id": "323288f8-8aa3-48c4-b3d2-61fd547826c6",
   "metadata": {},
   "source": [
    "#### B. XGBoost with ROC curve"
   ]
  },
  {
   "cell_type": "code",
   "execution_count": 38,
   "id": "d91d2203-de5c-46f7-a3be-7df0eeecdfd0",
   "metadata": {},
   "outputs": [],
   "source": [
    "from xgboost import XGBClassifier\n",
    "from sklearn.metrics import roc_auc_score, roc_curve\n",
    "\n",
    "model_xg = XGBClassifier().fit(X_train_new, y_train_new)\n",
    "y_pred_xgb= model_xg.predict(X_test_encoded)\n"
   ]
  },
  {
   "cell_type": "code",
   "execution_count": 39,
   "id": "2af73abb-d294-4c20-9d65-fdc8cc8a75cc",
   "metadata": {},
   "outputs": [
    {
     "name": "stdout",
     "output_type": "stream",
     "text": [
      "                     precision    recall  f1-score   support\n",
      "\n",
      "  Completed_Booking       0.86      0.98      0.92      8520\n",
      "Uncompleted_Booking       0.36      0.05      0.10      1480\n",
      "\n",
      "           accuracy                           0.85     10000\n",
      "          macro avg       0.61      0.52      0.51     10000\n",
      "       weighted avg       0.78      0.85      0.79     10000\n",
      "\n"
     ]
    }
   ],
   "source": [
    "print(classification_report(y_test, y_pred_xgb, target_names= target_names))"
   ]
  },
  {
   "cell_type": "code",
   "execution_count": 40,
   "id": "5e64ae6b-d2e5-4536-a04c-9a38845a884e",
   "metadata": {},
   "outputs": [],
   "source": [
    "# Get predicted probabilities for all classes\n",
    "probabilities = model_xg.predict_proba(X_test_encoded)\n",
    "\n",
    "# Extract only the probabilities for the positive class (class 1)\n",
    "probs_xg = probabilities[:, 1]\n",
    "\n",
    "# Model Evaluation Metrics \n",
    "y_test_int = y_test.replace({'Completed_Booking' : 1, 'Uncompleted_Booking': 0})\n",
    "auc_xg = roc_auc_score(y_test_int, probs_xg)\n",
    "fpr_xg, tpr_xg, thresholds_xg = roc_curve(y_test_int, probs_xg)"
   ]
  },
  {
   "cell_type": "code",
   "execution_count": 41,
   "id": "60848e4e-4ed6-4fc8-8112-830ca6ce97cd",
   "metadata": {},
   "outputs": [
    {
     "data": {
      "image/png": "[encoded data removed]",
      "text/plain": [
       "<Figure size 700x500 with 1 Axes>"
      ]
     },
     "metadata": {},
     "output_type": "display_data"
    }
   ],
   "source": [
    "# Visualizing Model Performance: ROC Curve\n",
    "from sklearn.metrics import roc_curve, auc\n",
    "\n",
    "# Plot the ROC curves\n",
    "plt.figure(figsize=(7, 5))\n",
    "\n",
    "# Plot the ROC curve for the XGBoost model \n",
    "plt.plot(fpr_xg, tpr_xg, label=f'AUC (XGBoost) = {auc_xg:.2f}')  \n",
    "\n",
    "# Plot the ROC curve for the grid search model\n",
    "plt.plot(fpr_grid, tpr_grid, label=f'AUC (Grid Search XGBoost) = {auc_grid:.2f}')\n",
    "\n",
    "plt.title('ROC Curve Comparison', size=20)\n",
    "plt.xlabel('False Positive Rate', size=14)\n",
    "plt.ylabel('True Positive Rate', size=14)\n",
    "plt.legend();\n",
    "plt.grid(True)  # Add grid lines for better visualization\n",
    "\n",
    "plt.show()"
   ]
  },
  {
   "cell_type": "markdown",
   "id": "a225af3f-3fdc-425c-ad40-6ba67642cec0",
   "metadata": {},
   "source": [
    "### Insights:"
   ]
  },
  {
   "cell_type": "markdown",
   "id": "6fd53c56-1fd6-4a97-8c94-1faddfab5c42",
   "metadata": {},
   "source": [
    "AUC Value: \n",
    "\n",
    "- TheXGBoost model has a slightly higher AUC (0.67) compared to the Grid Search XGBoost model (0.66).\n",
    "- A higher AUC generally indicates better performance\n",
    "- The curve for the Previous XGBoost model is slightly above the curve for the Grid Search XGBoost model, indicating a slightly higher true positive  rate for a given false positive rate.\n",
    "- The XGBoost model is better at correctly identifying positive cases at various thresholds."
   ]
  },
  {
   "cell_type": "code",
   "execution_count": 44,
   "id": "c370137e-e80e-44c9-a725-9ff6c89fe9de",
   "metadata": {},
   "outputs": [],
   "source": [
    "# Get feature importances\n",
    "feature_importances = model_xg.feature_importances_\n",
    "\n",
    "# Extract feature names without prefixes\n",
    "feature_names = [name.split(\"__\")[-1] for name in preprocessor.get_feature_names_out()]\n",
    "\n",
    "# Create a DataFrame for better visualization\n",
    "feature_importance_df = pd.DataFrame({'Feature': feature_names, 'Importance': feature_importances})\n",
    "\n",
    "# Sort by importance in descending order\n",
    "feature_importance_df = feature_importance_df.sort_values(by='Importance', ascending=False)\n"
   ]
  },
  {
   "cell_type": "code",
   "execution_count": 45,
   "id": "ee4553e4-52ff-473d-96e6-2b6d72d5742f",
   "metadata": {},
   "outputs": [
    {
     "data": {
      "image/png": "[encoded data removed]",
      "text/plain": [
       "<Figure size 800x600 with 1 Axes>"
      ]
     },
     "metadata": {},
     "output_type": "display_data"
    }
   ],
   "source": [
    "# Create the bar chart\n",
    "plt.figure(figsize=(8, 6))\n",
    "sns.barplot(x='Importance', y='Feature', data=feature_importance_df.head(20), color='tab:blue')\n",
    "plt.xlabel(\"XGBoost Feature Importance\")  # Change label to reflect XGBoost\n",
    "plt.title('XGBoost Feature Importance')\n",
    "\n",
    "plt.tight_layout()\n",
    "plt.show()"
   ]
  },
  {
   "cell_type": "markdown",
   "id": "bf04fb3f-6ace-4a9a-b768-fd359abc5278",
   "metadata": {},
   "source": [
    "#### Insights from the Feature Importance Plot:\n",
    "\n",
    "- Sales channel, length of stay, and flight duration are the most influential factors.\n",
    "- Customer preferences (extra baggage, seats, meals) have less impact.\n",
    "- Purchase lead time has minimal effect on the outcome."
   ]
  },
  {
   "cell_type": "markdown",
   "id": "2418d829-0334-4dac-b8e9-1641966f683f",
   "metadata": {},
   "source": [
    "## Conclusion"
   ]
  },
  {
   "cell_type": "markdown",
   "id": "70cf1994-b61a-48b7-b063-eae38116d4d9",
   "metadata": {},
   "source": [
    "In this project we dealt with an unbalanced dataset, with large categorical data.\n",
    "\n",
    "    1. We addressed categorical data by applying encoding techniques, especially for large categorical features. Additionally, we utilized StandardScaler to scale certain features, using column transformer.\n",
    "\n",
    "    2. To handle the unbalanced dataset we used oversampling and undersampling techniques to make our train data balanced and ready to be fitted in the model."
   ]
  },
  {
   "cell_type": "markdown",
   "id": "e40f7920-4ca2-4c9f-86f1-14972ca9f3c6",
   "metadata": {},
   "source": [
    "Then we trained 2 models:\n",
    "    \n",
    "    - RandomForest Classifier\n",
    "    - XgBoost Classifier"
   ]
  },
  {
   "cell_type": "markdown",
   "id": "3abd0e2c-a32d-4af7-b1cc-539814769b04",
   "metadata": {},
   "source": [
    "#### Model Results"
   ]
  },
  {
   "cell_type": "markdown",
   "id": "3bf9649d-4628-4911-b0df-39ffa89626a3",
   "metadata": {},
   "source": [
    "### 1. RandomForest Classifier\n",
    "\n",
    "- On balanced data:  Acc : 0.81\n",
    "\n",
    "  F1-Score :   Completed_Booking:  0.89\n",
    "  \n",
    "               Uncompleted_Booking: 0.28"
   ]
  },
  {
   "cell_type": "markdown",
   "id": "a7bdfb87-3d3a-429b-b76e-3d915d6515f1",
   "metadata": {},
   "source": [
    "### 2. XgBoostClassifier\n",
    "\n",
    "- On balanced data: Acc : 0.84\n",
    "\n",
    "  F1-Score : Completed_Booking: 0.91\n",
    "\n",
    "             Uncompleted_Booking: 0.10"
   ]
  },
  {
   "cell_type": "markdown",
   "id": "99f41fd4-f47a-4d96-b4e9-5b7378680ec7",
   "metadata": {},
   "source": [
    "##### Final Results"
   ]
  },
  {
   "cell_type": "markdown",
   "id": "8113e396-141c-41e5-9745-564b3d6f4a54",
   "metadata": {},
   "source": [
    "Since we are dealing with unbalanced dataset the Acc metric is not enough to evaluate our model, so we will chose the best model based on it's F1-Score:\n",
    "\n",
    "Best Model: XgBoost Classifier on Balanced data"
   ]
  },
  {
   "cell_type": "code",
   "execution_count": null,
   "id": "57c3d0a6-a442-4fc5-9056-63954cafedbc",
   "metadata": {},
   "outputs": [],
   "source": []
  }
 ],
 "metadata": {
  "kernelspec": {
   "display_name": "Python 3 (ipykernel)",
   "language": "python",
   "name": "python3"
  },
  "language_info": {
   "codemirror_mode": {
    "name": "ipython",
    "version": 3
   },
   "file_extension": ".py",
   "mimetype": "text/x-python",
   "name": "python",
   "nbconvert_exporter": "python",
   "pygments_lexer": "ipython3",
   "version": "3.11.7"
  }
 },
 "nbformat": 4,
 "nbformat_minor": 5
}
