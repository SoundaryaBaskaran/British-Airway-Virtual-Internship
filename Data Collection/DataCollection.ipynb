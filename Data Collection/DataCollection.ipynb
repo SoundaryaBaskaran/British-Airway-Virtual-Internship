{
 "cells": [
  {
   "cell_type": "markdown",
   "id": "a3cfa332-7e87-45eb-9f6e-21cb7142fa9e",
   "metadata": {},
   "source": [
    "## Data Collection"
   ]
  },
  {
   "cell_type": "markdown",
   "id": "8c8b2aa6-6e56-4af0-9c50-a144ab5b3206",
   "metadata": {},
   "source": [
    "In this phase we will collect the customer ratings data from the airline quality website called [Skytrax](https://www.airlinequality.com/airline-reviews/british-airways) . We will collect data about airline ratings, seat ratings and lounge experience ratings from this website."
   ]
  },
  {
   "cell_type": "code",
   "execution_count": 5,
   "id": "3ae65a73-cb46-4ac5-9e67-a6075687dd2b",
   "metadata": {},
   "outputs": [],
   "source": [
    "#importing libraries\n",
    "\n",
    "import pandas as pd\n",
    "import numpy as np\n",
    "from bs4 import BeautifulSoup\n",
    "import requests"
   ]
  },
  {
   "cell_type": "code",
   "execution_count": 6,
   "id": "795a459e-a743-4770-8833-516e22f771cc",
   "metadata": {},
   "outputs": [],
   "source": [
    "#create an empty list to collect all reviews\n",
    "reviews=[]\n",
    "\n",
    "#create an empty list to collect rating stars\n",
    "stars=[]\n",
    "\n",
    "#create an empty list to collect date\n",
    "date=[]\n",
    "\n",
    "#create an empty list to collect country the reviewer is from\n",
    "country=[]"
   ]
  },
  {
   "cell_type": "code",
   "execution_count": 7,
   "id": "d7a3c87a-2e3e-41ef-9462-e998c1934585",
   "metadata": {},
   "outputs": [
    {
     "name": "stdout",
     "output_type": "stream",
     "text": [
      "Error on page 33\n",
      "Error on page 34\n",
      "Error on page 35\n"
     ]
    }
   ],
   "source": [
    "for i in range(1, 36):\n",
    "    page = requests.get(f\"https://www.airlinequality.com/airline-reviews/british-airways/page/{i}/?sortby=post_date%3ADesc&pagesize=100\")\n",
    "    \n",
    "    soup = BeautifulSoup(page.content, \"lxml\")\n",
    "    \n",
    "    for item in soup.find_all(\"div\", class_=\"text_content\"):\n",
    "        reviews.append(item.text)\n",
    "    \n",
    "    for item in soup.find_all(\"div\", class_ = \"rating-10\"):\n",
    "        try:\n",
    "            stars.append(item.span.text)\n",
    "        except:\n",
    "            print(f\"Error on page {i}\")\n",
    "            stars.append(\"None\")\n",
    "            \n",
    "    #date\n",
    "    for item in soup.find_all(\"time\"):\n",
    "        date.append(item.text)\n",
    "        \n",
    "    #country\n",
    "    for item in soup.find_all(\"h3\"):\n",
    "        country.append(item.span.next_sibling.text.strip(\" ()\"))"
   ]
  },
  {
   "cell_type": "code",
   "execution_count": 8,
   "id": "a8f4ea5b-ab76-4a9f-8c6d-2b2077616d58",
   "metadata": {},
   "outputs": [
    {
     "data": {
      "text/plain": [
       "3500"
      ]
     },
     "execution_count": 8,
     "metadata": {},
     "output_type": "execute_result"
    }
   ],
   "source": [
    "#check the lenght of total reviews extracted\n",
    "len(reviews)"
   ]
  },
  {
   "cell_type": "code",
   "execution_count": 9,
   "id": "36004f4d-68ee-4952-90ba-4029a0caa58a",
   "metadata": {},
   "outputs": [
    {
     "data": {
      "text/plain": [
       "3500"
      ]
     },
     "execution_count": 9,
     "metadata": {},
     "output_type": "execute_result"
    }
   ],
   "source": [
    "len(country)"
   ]
  },
  {
   "cell_type": "code",
   "execution_count": 10,
   "id": "f276c527-72f7-4d8b-b1eb-b34eb1c4113c",
   "metadata": {},
   "outputs": [],
   "source": [
    "#check the lenght\n",
    "stars=stars[:3500]"
   ]
  },
  {
   "cell_type": "code",
   "execution_count": 11,
   "id": "74d23062-c797-40e6-9b34-8af4cdaadd30",
   "metadata": {},
   "outputs": [],
   "source": [
    "#create a dataframe from these collected list of data\n",
    "\n",
    "df=pd.DataFrame({\"reviews\":reviews, \"stars\":stars, \"date\":date, \"country\":country})"
   ]
  },
  {
   "cell_type": "code",
   "execution_count": 12,
   "id": "189a4326-f0bf-4cec-b0c2-6d43da5a0de4",
   "metadata": {},
   "outputs": [
    {
     "data": {
      "text/html": [
       "<div>\n",
       "<style scoped>\n",
       "    .dataframe tbody tr th:only-of-type {\n",
       "        vertical-align: middle;\n",
       "    }\n",
       "\n",
       "    .dataframe tbody tr th {\n",
       "        vertical-align: top;\n",
       "    }\n",
       "\n",
       "    .dataframe thead th {\n",
       "        text-align: right;\n",
       "    }\n",
       "</style>\n",
       "<table border=\"1\" class=\"dataframe\">\n",
       "  <thead>\n",
       "    <tr style=\"text-align: right;\">\n",
       "      <th></th>\n",
       "      <th>reviews</th>\n",
       "      <th>stars</th>\n",
       "      <th>date</th>\n",
       "      <th>country</th>\n",
       "    </tr>\n",
       "  </thead>\n",
       "  <tbody>\n",
       "    <tr>\n",
       "      <th>0</th>\n",
       "      <td>Not Verified |  I flew internationally for the...</td>\n",
       "      <td>\\n\\t\\t\\t\\t\\t\\t\\t\\t\\t\\t\\t\\t5</td>\n",
       "      <td>5th August 2024</td>\n",
       "      <td>United States</td>\n",
       "    </tr>\n",
       "    <tr>\n",
       "      <th>1</th>\n",
       "      <td>✅ Trip Verified | BA, after subsequent delays ...</td>\n",
       "      <td>1</td>\n",
       "      <td>3rd August 2024</td>\n",
       "      <td>Italy</td>\n",
       "    </tr>\n",
       "    <tr>\n",
       "      <th>2</th>\n",
       "      <td>Not Verified |   It is embarrassing to have th...</td>\n",
       "      <td>1</td>\n",
       "      <td>2nd August 2024</td>\n",
       "      <td>Australia</td>\n",
       "    </tr>\n",
       "    <tr>\n",
       "      <th>3</th>\n",
       "      <td>✅ Trip Verified | Flight cancelled due to bad ...</td>\n",
       "      <td>1</td>\n",
       "      <td>2nd August 2024</td>\n",
       "      <td>United Kingdom</td>\n",
       "    </tr>\n",
       "    <tr>\n",
       "      <th>4</th>\n",
       "      <td>✅ Trip Verified |  British Airways oversold my...</td>\n",
       "      <td>10</td>\n",
       "      <td>30th July 2024</td>\n",
       "      <td>United States</td>\n",
       "    </tr>\n",
       "  </tbody>\n",
       "</table>\n",
       "</div>"
      ],
      "text/plain": [
       "                                             reviews  \\\n",
       "0  Not Verified |  I flew internationally for the...   \n",
       "1  ✅ Trip Verified | BA, after subsequent delays ...   \n",
       "2  Not Verified |   It is embarrassing to have th...   \n",
       "3  ✅ Trip Verified | Flight cancelled due to bad ...   \n",
       "4  ✅ Trip Verified |  British Airways oversold my...   \n",
       "\n",
       "                         stars             date         country  \n",
       "0  \\n\\t\\t\\t\\t\\t\\t\\t\\t\\t\\t\\t\\t5  5th August 2024   United States  \n",
       "1                            1  3rd August 2024           Italy  \n",
       "2                            1  2nd August 2024       Australia  \n",
       "3                            1  2nd August 2024  United Kingdom  \n",
       "4                           10   30th July 2024   United States  "
      ]
     },
     "execution_count": 12,
     "metadata": {},
     "output_type": "execute_result"
    }
   ],
   "source": [
    "df.head()"
   ]
  },
  {
   "cell_type": "code",
   "execution_count": 13,
   "id": "718d84d2-c7b9-4622-857e-8b024ba74a95",
   "metadata": {},
   "outputs": [
    {
     "data": {
      "text/plain": [
       "(3500, 4)"
      ]
     },
     "execution_count": 13,
     "metadata": {},
     "output_type": "execute_result"
    }
   ],
   "source": [
    "df.shape"
   ]
  },
  {
   "cell_type": "markdown",
   "id": "6b068bd1-d9f0-4682-939a-5390cd280362",
   "metadata": {},
   "source": [
    "## Export the data into a csv format"
   ]
  },
  {
   "cell_type": "code",
   "execution_count": 15,
   "id": "bfef727a-a2a3-42d0-9689-1a0205efa5ea",
   "metadata": {},
   "outputs": [],
   "source": [
    "import os\n",
    "\n",
    "cwd=os.getcwd()\n",
    "df.to_csv(cwd+\"/BA-reviews.csv\")"
   ]
  },
  {
   "cell_type": "code",
   "execution_count": null,
   "id": "fee0fa41-87a4-4794-9f4b-20d7831c4f04",
   "metadata": {},
   "outputs": [],
   "source": []
  }
 ],
 "metadata": {
  "kernelspec": {
   "display_name": "Python 3 (ipykernel)",
   "language": "python",
   "name": "python3"
  },
  "language_info": {
   "codemirror_mode": {
    "name": "ipython",
    "version": 3
   },
   "file_extension": ".py",
   "mimetype": "text/x-python",
   "name": "python",
   "nbconvert_exporter": "python",
   "pygments_lexer": "ipython3",
   "version": "3.11.7"
  }
 },
 "nbformat": 4,
 "nbformat_minor": 5
}
