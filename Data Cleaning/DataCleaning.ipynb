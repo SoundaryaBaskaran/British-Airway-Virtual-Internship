{
 "cells": [
  {
   "cell_type": "markdown",
   "id": "598bf3ae-c29d-4c95-8cc0-4f0e9951d970",
   "metadata": {},
   "source": [
    "## Data Cleaning\n",
    "\n",
    "Now since we have extracted data from website, it is not cleaned and ready to be analyzed yet. The reviews section will be cleaned for punctuations, spellings and other characters."
   ]
  },
  {
   "cell_type": "code",
   "execution_count": 1,
   "id": "2ef7df93-65dd-4863-840a-19ee6c7a5ec0",
   "metadata": {},
   "outputs": [],
   "source": [
    "#imports\n",
    "\n",
    "import pandas as pd\n",
    "import numpy as np\n",
    "import matplotlib.pyplot as plt\n",
    "import seaborn as sns\n",
    "import os\n",
    "\n",
    "#regex\n",
    "import re"
   ]
  },
  {
   "cell_type": "code",
   "execution_count": 3,
   "id": "64039ab9-79f0-4853-b56b-4b9fe52433e8",
   "metadata": {},
   "outputs": [],
   "source": [
    "#create a dataframe from csv file\n",
    "\n",
    "cwd=os.getcwd()\n",
    "df=pd.read_csv(cwd+\"/BA-reviews.csv\", index_col=0)"
   ]
  },
  {
   "cell_type": "code",
   "execution_count": 5,
   "id": "df49920b-6ee0-4a88-ab2d-f7126a7187e0",
   "metadata": {},
   "outputs": [
    {
     "data": {
      "text/html": [
       "<div>\n",
       "<style scoped>\n",
       "    .dataframe tbody tr th:only-of-type {\n",
       "        vertical-align: middle;\n",
       "    }\n",
       "\n",
       "    .dataframe tbody tr th {\n",
       "        vertical-align: top;\n",
       "    }\n",
       "\n",
       "    .dataframe thead th {\n",
       "        text-align: right;\n",
       "    }\n",
       "</style>\n",
       "<table border=\"1\" class=\"dataframe\">\n",
       "  <thead>\n",
       "    <tr style=\"text-align: right;\">\n",
       "      <th></th>\n",
       "      <th>reviews</th>\n",
       "      <th>stars</th>\n",
       "      <th>date</th>\n",
       "      <th>country</th>\n",
       "    </tr>\n",
       "  </thead>\n",
       "  <tbody>\n",
       "    <tr>\n",
       "      <th>0</th>\n",
       "      <td>Not Verified |  I flew internationally for the...</td>\n",
       "      <td>5.0</td>\n",
       "      <td>5th August 2024</td>\n",
       "      <td>United States</td>\n",
       "    </tr>\n",
       "    <tr>\n",
       "      <th>1</th>\n",
       "      <td>✅ Trip Verified | BA, after subsequent delays ...</td>\n",
       "      <td>1.0</td>\n",
       "      <td>3rd August 2024</td>\n",
       "      <td>Italy</td>\n",
       "    </tr>\n",
       "    <tr>\n",
       "      <th>2</th>\n",
       "      <td>Not Verified |   It is embarrassing to have th...</td>\n",
       "      <td>1.0</td>\n",
       "      <td>2nd August 2024</td>\n",
       "      <td>Australia</td>\n",
       "    </tr>\n",
       "    <tr>\n",
       "      <th>3</th>\n",
       "      <td>✅ Trip Verified | Flight cancelled due to bad ...</td>\n",
       "      <td>1.0</td>\n",
       "      <td>2nd August 2024</td>\n",
       "      <td>United Kingdom</td>\n",
       "    </tr>\n",
       "    <tr>\n",
       "      <th>4</th>\n",
       "      <td>✅ Trip Verified |  British Airways oversold my...</td>\n",
       "      <td>10.0</td>\n",
       "      <td>30th July 2024</td>\n",
       "      <td>United States</td>\n",
       "    </tr>\n",
       "  </tbody>\n",
       "</table>\n",
       "</div>"
      ],
      "text/plain": [
       "                                             reviews  stars             date  \\\n",
       "0  Not Verified |  I flew internationally for the...    5.0  5th August 2024   \n",
       "1  ✅ Trip Verified | BA, after subsequent delays ...    1.0  3rd August 2024   \n",
       "2  Not Verified |   It is embarrassing to have th...    1.0  2nd August 2024   \n",
       "3  ✅ Trip Verified | Flight cancelled due to bad ...    1.0  2nd August 2024   \n",
       "4  ✅ Trip Verified |  British Airways oversold my...   10.0   30th July 2024   \n",
       "\n",
       "          country  \n",
       "0   United States  \n",
       "1           Italy  \n",
       "2       Australia  \n",
       "3  United Kingdom  \n",
       "4   United States  "
      ]
     },
     "execution_count": 5,
     "metadata": {},
     "output_type": "execute_result"
    }
   ],
   "source": [
    "df.head()"
   ]
  },
  {
   "cell_type": "markdown",
   "id": "e70856bb-517b-4fa1-b418-590550457386",
   "metadata": {},
   "source": [
    "We will also create a column which mention if the user is verified or not."
   ]
  },
  {
   "cell_type": "code",
   "execution_count": 7,
   "id": "3f978bc0-787b-4cfc-ba27-4fbb279e15b7",
   "metadata": {},
   "outputs": [],
   "source": [
    "df['verified']=df.reviews.str.contains(\"Trip Verified\")"
   ]
  },
  {
   "cell_type": "code",
   "execution_count": 9,
   "id": "14d9a84a-abde-4b7d-a466-eab06f070a9e",
   "metadata": {},
   "outputs": [
    {
     "data": {
      "text/plain": [
       "0       False\n",
       "1        True\n",
       "2       False\n",
       "3        True\n",
       "4        True\n",
       "        ...  \n",
       "3495    False\n",
       "3496    False\n",
       "3497    False\n",
       "3498    False\n",
       "3499    False\n",
       "Name: verified, Length: 3500, dtype: bool"
      ]
     },
     "execution_count": 9,
     "metadata": {},
     "output_type": "execute_result"
    }
   ],
   "source": [
    "df['verified']"
   ]
  },
  {
   "cell_type": "markdown",
   "id": "bc2b78c7-f4ab-462e-9f5b-ec8f13cc769a",
   "metadata": {},
   "source": [
    "### Cleaning Reviews"
   ]
  },
  {
   "cell_type": "markdown",
   "id": "f4bb3898-bfd3-4a7e-940e-ee96d3028fab",
   "metadata": {},
   "source": [
    "We will extract the column of reviews into a separate dataframe and clean it for semantic analysis"
   ]
  },
  {
   "cell_type": "code",
   "execution_count": 11,
   "id": "182d0fce-e9b9-49a0-94c9-32c6f6288239",
   "metadata": {},
   "outputs": [],
   "source": [
    "#for lemmatization of words we will use nltk library\n",
    "from nltk.corpus import stopwords\n",
    "from nltk.stem import WordNetLemmatizer\n",
    "lemma=WordNetLemmatizer()\n",
    "\n",
    "reviews_data=df.reviews.str.strip(\"✅ Trip Verified |\")\n",
    "\n",
    "#create an empty list to collect cleaned data corpus\n",
    "corpus=[]\n",
    "\n",
    "#loop through each review, remove punctuations, small cases, join and add it to corpus\n",
    "for rev in reviews_data:\n",
    "    rev=re.sub('[^a-zA-Z]',' ',rev)\n",
    "    rev=rev.lower()\n",
    "    rev=rev.split()\n",
    "    rev=[lemma.lemmatize(word) for word in rev if not word in stopwords.words('english')]\n",
    "    rev=\" \".join(rev)\n",
    "    corpus.append(rev)"
   ]
  },
  {
   "cell_type": "code",
   "execution_count": 13,
   "id": "7ac9831b-818d-4742-b0bc-c3e443405fb9",
   "metadata": {},
   "outputs": [],
   "source": [
    "#add the corpus to the original dataframe\n",
    "\n",
    "df['corpus']=corpus"
   ]
  },
  {
   "cell_type": "code",
   "execution_count": 15,
   "id": "2d44662e-55c5-42b0-94ef-463a8fd69a9f",
   "metadata": {},
   "outputs": [
    {
     "data": {
      "text/html": [
       "<div>\n",
       "<style scoped>\n",
       "    .dataframe tbody tr th:only-of-type {\n",
       "        vertical-align: middle;\n",
       "    }\n",
       "\n",
       "    .dataframe tbody tr th {\n",
       "        vertical-align: top;\n",
       "    }\n",
       "\n",
       "    .dataframe thead th {\n",
       "        text-align: right;\n",
       "    }\n",
       "</style>\n",
       "<table border=\"1\" class=\"dataframe\">\n",
       "  <thead>\n",
       "    <tr style=\"text-align: right;\">\n",
       "      <th></th>\n",
       "      <th>reviews</th>\n",
       "      <th>stars</th>\n",
       "      <th>date</th>\n",
       "      <th>country</th>\n",
       "      <th>verified</th>\n",
       "      <th>corpus</th>\n",
       "    </tr>\n",
       "  </thead>\n",
       "  <tbody>\n",
       "    <tr>\n",
       "      <th>0</th>\n",
       "      <td>Not Verified |  I flew internationally for the...</td>\n",
       "      <td>5.0</td>\n",
       "      <td>5th August 2024</td>\n",
       "      <td>United States</td>\n",
       "      <td>False</td>\n",
       "      <td>verified flew internationally first time life ...</td>\n",
       "    </tr>\n",
       "    <tr>\n",
       "      <th>1</th>\n",
       "      <td>✅ Trip Verified | BA, after subsequent delays ...</td>\n",
       "      <td>1.0</td>\n",
       "      <td>3rd August 2024</td>\n",
       "      <td>Italy</td>\n",
       "      <td>True</td>\n",
       "      <td>ba subsequent delay postponed departure time i...</td>\n",
       "    </tr>\n",
       "    <tr>\n",
       "      <th>2</th>\n",
       "      <td>Not Verified |   It is embarrassing to have th...</td>\n",
       "      <td>1.0</td>\n",
       "      <td>2nd August 2024</td>\n",
       "      <td>Australia</td>\n",
       "      <td>False</td>\n",
       "      <td>verified embarrassing word british attached ai...</td>\n",
       "    </tr>\n",
       "    <tr>\n",
       "      <th>3</th>\n",
       "      <td>✅ Trip Verified | Flight cancelled due to bad ...</td>\n",
       "      <td>1.0</td>\n",
       "      <td>2nd August 2024</td>\n",
       "      <td>United Kingdom</td>\n",
       "      <td>True</td>\n",
       "      <td>flight cancelled due bad weather ba contacted ...</td>\n",
       "    </tr>\n",
       "    <tr>\n",
       "      <th>4</th>\n",
       "      <td>✅ Trip Verified |  British Airways oversold my...</td>\n",
       "      <td>10.0</td>\n",
       "      <td>30th July 2024</td>\n",
       "      <td>United States</td>\n",
       "      <td>True</td>\n",
       "      <td>british airway oversold lhr lax flight booked ...</td>\n",
       "    </tr>\n",
       "  </tbody>\n",
       "</table>\n",
       "</div>"
      ],
      "text/plain": [
       "                                             reviews  stars             date  \\\n",
       "0  Not Verified |  I flew internationally for the...    5.0  5th August 2024   \n",
       "1  ✅ Trip Verified | BA, after subsequent delays ...    1.0  3rd August 2024   \n",
       "2  Not Verified |   It is embarrassing to have th...    1.0  2nd August 2024   \n",
       "3  ✅ Trip Verified | Flight cancelled due to bad ...    1.0  2nd August 2024   \n",
       "4  ✅ Trip Verified |  British Airways oversold my...   10.0   30th July 2024   \n",
       "\n",
       "          country  verified                                             corpus  \n",
       "0   United States     False  verified flew internationally first time life ...  \n",
       "1           Italy      True  ba subsequent delay postponed departure time i...  \n",
       "2       Australia     False  verified embarrassing word british attached ai...  \n",
       "3  United Kingdom      True  flight cancelled due bad weather ba contacted ...  \n",
       "4   United States      True  british airway oversold lhr lax flight booked ...  "
      ]
     },
     "execution_count": 15,
     "metadata": {},
     "output_type": "execute_result"
    }
   ],
   "source": [
    "df.head()"
   ]
  },
  {
   "cell_type": "markdown",
   "id": "1f9f306c-dff8-4451-82ea-aff74cdc589d",
   "metadata": {},
   "source": [
    "### Cleaning/Format date"
   ]
  },
  {
   "cell_type": "code",
   "execution_count": 14,
   "id": "45b9e260-5d4e-40ae-bc78-d5127177cafe",
   "metadata": {},
   "outputs": [
    {
     "data": {
      "text/plain": [
       "reviews      object\n",
       "stars       float64\n",
       "date         object\n",
       "country      object\n",
       "verified       bool\n",
       "corpus       object\n",
       "dtype: object"
      ]
     },
     "execution_count": 14,
     "metadata": {},
     "output_type": "execute_result"
    }
   ],
   "source": [
    "df.dtypes"
   ]
  },
  {
   "cell_type": "code",
   "execution_count": 15,
   "id": "e4dfa198-020e-4665-87c4-d7c2cd5d0a47",
   "metadata": {},
   "outputs": [
    {
     "data": {
      "text/plain": [
       "0         5th August 2024\n",
       "1         3rd August 2024\n",
       "2         2nd August 2024\n",
       "3         2nd August 2024\n",
       "4          30th July 2024\n",
       "              ...        \n",
       "3495    13th October 2014\n",
       "3496    13th October 2014\n",
       "3497    13th October 2014\n",
       "3498    12th October 2014\n",
       "3499    12th October 2014\n",
       "Name: date, Length: 3500, dtype: object"
      ]
     },
     "execution_count": 15,
     "metadata": {},
     "output_type": "execute_result"
    }
   ],
   "source": [
    "df.date"
   ]
  },
  {
   "cell_type": "code",
   "execution_count": 17,
   "id": "378d2bfe-114c-44a1-a3da-b4aa6c502d13",
   "metadata": {},
   "outputs": [
    {
     "name": "stdout",
     "output_type": "stream",
     "text": [
      "0      2024-08-05\n",
      "1      2024-08-03\n",
      "2      2024-08-02\n",
      "3      2024-08-02\n",
      "4      2024-07-30\n",
      "          ...    \n",
      "3495   2014-10-13\n",
      "3496   2014-10-13\n",
      "3497   2014-10-13\n",
      "3498   2014-10-12\n",
      "3499   2014-10-12\n",
      "Name: dates, Length: 3500, dtype: datetime64[ns]\n"
     ]
    }
   ],
   "source": [
    "#convert the date to datetime format\n",
    "\n",
    "# Create  DataFrame \n",
    "data = {'date': ['5th August 2024', '3rd August 2024', '2nd August 2024', '2nd August 2024', '30th July 2024', ...]}\n",
    "\n",
    "df1 = pd.DataFrame(data)\n",
    "\n",
    "# Remove ordinal indicators\n",
    "df['dates'] = df['date'].str.replace(r'\\b(\\d+)(st|nd|rd|th)\\b', r'\\1', regex=True)\n",
    "\n",
    "# Convert the 'date' column to datetime\n",
    "df['dates'] = pd.to_datetime(df['dates'], format='%d %B %Y')\n",
    "\n",
    "print(df['dates'])\n",
    "\n"
   ]
  },
  {
   "cell_type": "code",
   "execution_count": 17,
   "id": "ca0001ec-7a43-4e20-b4c9-787b30bd0f22",
   "metadata": {},
   "outputs": [
    {
     "data": {
      "text/plain": [
       "0   2024-08-05\n",
       "1   2024-08-03\n",
       "2   2024-08-02\n",
       "3   2024-08-02\n",
       "4   2024-07-30\n",
       "Name: dates, dtype: datetime64[ns]"
      ]
     },
     "execution_count": 17,
     "metadata": {},
     "output_type": "execute_result"
    }
   ],
   "source": [
    "df['dates'].head()"
   ]
  },
  {
   "cell_type": "code",
   "execution_count": 19,
   "id": "4c06db4e-16ca-4b05-ab3e-71f370f838ad",
   "metadata": {},
   "outputs": [],
   "source": [
    "df1=df.drop('date', axis=1)"
   ]
  },
  {
   "cell_type": "code",
   "execution_count": 199,
   "id": "0e2aa75f-9c2e-4a0f-b164-ac9e265be13a",
   "metadata": {},
   "outputs": [
    {
     "data": {
      "text/html": [
       "<div>\n",
       "<style scoped>\n",
       "    .dataframe tbody tr th:only-of-type {\n",
       "        vertical-align: middle;\n",
       "    }\n",
       "\n",
       "    .dataframe tbody tr th {\n",
       "        vertical-align: top;\n",
       "    }\n",
       "\n",
       "    .dataframe thead th {\n",
       "        text-align: right;\n",
       "    }\n",
       "</style>\n",
       "<table border=\"1\" class=\"dataframe\">\n",
       "  <thead>\n",
       "    <tr style=\"text-align: right;\">\n",
       "      <th></th>\n",
       "      <th>reviews</th>\n",
       "      <th>stars</th>\n",
       "      <th>country</th>\n",
       "      <th>verified</th>\n",
       "      <th>corpus</th>\n",
       "      <th>dates</th>\n",
       "    </tr>\n",
       "  </thead>\n",
       "  <tbody>\n",
       "    <tr>\n",
       "      <th>0</th>\n",
       "      <td>Not Verified |  I flew internationally for the...</td>\n",
       "      <td>5.0</td>\n",
       "      <td>United States</td>\n",
       "      <td>False</td>\n",
       "      <td>verified flew internationally first time life ...</td>\n",
       "      <td>2024-08-05</td>\n",
       "    </tr>\n",
       "    <tr>\n",
       "      <th>1</th>\n",
       "      <td>✅ Trip Verified | BA, after subsequent delays ...</td>\n",
       "      <td>1.0</td>\n",
       "      <td>Italy</td>\n",
       "      <td>True</td>\n",
       "      <td>ba subsequent delay postponed departure time i...</td>\n",
       "      <td>2024-08-03</td>\n",
       "    </tr>\n",
       "    <tr>\n",
       "      <th>2</th>\n",
       "      <td>Not Verified |   It is embarrassing to have th...</td>\n",
       "      <td>1.0</td>\n",
       "      <td>Australia</td>\n",
       "      <td>False</td>\n",
       "      <td>verified embarrassing word british attached ai...</td>\n",
       "      <td>2024-08-02</td>\n",
       "    </tr>\n",
       "    <tr>\n",
       "      <th>3</th>\n",
       "      <td>✅ Trip Verified | Flight cancelled due to bad ...</td>\n",
       "      <td>1.0</td>\n",
       "      <td>United Kingdom</td>\n",
       "      <td>True</td>\n",
       "      <td>flight cancelled due bad weather ba contacted ...</td>\n",
       "      <td>2024-08-02</td>\n",
       "    </tr>\n",
       "    <tr>\n",
       "      <th>4</th>\n",
       "      <td>✅ Trip Verified |  British Airways oversold my...</td>\n",
       "      <td>10.0</td>\n",
       "      <td>United States</td>\n",
       "      <td>True</td>\n",
       "      <td>british airway oversold lhr lax flight booked ...</td>\n",
       "      <td>2024-07-30</td>\n",
       "    </tr>\n",
       "  </tbody>\n",
       "</table>\n",
       "</div>"
      ],
      "text/plain": [
       "                                             reviews  stars         country  \\\n",
       "0  Not Verified |  I flew internationally for the...    5.0   United States   \n",
       "1  ✅ Trip Verified | BA, after subsequent delays ...    1.0           Italy   \n",
       "2  Not Verified |   It is embarrassing to have th...    1.0       Australia   \n",
       "3  ✅ Trip Verified | Flight cancelled due to bad ...    1.0  United Kingdom   \n",
       "4  ✅ Trip Verified |  British Airways oversold my...   10.0   United States   \n",
       "\n",
       "   verified                                             corpus      dates  \n",
       "0     False  verified flew internationally first time life ... 2024-08-05  \n",
       "1      True  ba subsequent delay postponed departure time i... 2024-08-03  \n",
       "2     False  verified embarrassing word british attached ai... 2024-08-02  \n",
       "3      True  flight cancelled due bad weather ba contacted ... 2024-08-02  \n",
       "4      True  british airway oversold lhr lax flight booked ... 2024-07-30  "
      ]
     },
     "execution_count": 199,
     "metadata": {},
     "output_type": "execute_result"
    }
   ],
   "source": [
    "df1.head()"
   ]
  },
  {
   "cell_type": "markdown",
   "id": "53651df5-1de0-4d9c-bc6f-fc6c175d37b6",
   "metadata": {},
   "source": [
    "## Check for null values"
   ]
  },
  {
   "cell_type": "code",
   "execution_count": 67,
   "id": "9e79d630-c165-4311-a830-5da780fa38b6",
   "metadata": {},
   "outputs": [
    {
     "data": {
      "text/plain": [
       "reviews     0\n",
       "stars       3\n",
       "country     2\n",
       "verified    0\n",
       "corpus      0\n",
       "dates       0\n",
       "dtype: int64"
      ]
     },
     "execution_count": 67,
     "metadata": {},
     "output_type": "execute_result"
    }
   ],
   "source": [
    "df1.isnull().sum()"
   ]
  },
  {
   "cell_type": "markdown",
   "id": "56bbc516-b6b4-47cc-975d-b99f5ef5050c",
   "metadata": {},
   "source": [
    "We have 3 missing values in stars and 2 missing values in country. We will drop those from dataframe"
   ]
  },
  {
   "cell_type": "code",
   "execution_count": 21,
   "id": "76d0adf5-b195-4034-bd8e-f4c522e24e3f",
   "metadata": {},
   "outputs": [],
   "source": [
    "# Remove the 'stars' and 'country' columns\n",
    "df1.dropna(subset=['stars', 'country'], inplace=True)\n"
   ]
  },
  {
   "cell_type": "code",
   "execution_count": 19,
   "id": "1f5efd9d-5ad4-4b8f-ba33-8f6fb9377743",
   "metadata": {},
   "outputs": [
    {
     "data": {
      "text/plain": [
       "(3495, 6)"
      ]
     },
     "execution_count": 19,
     "metadata": {},
     "output_type": "execute_result"
    }
   ],
   "source": [
    "df1.shape"
   ]
  },
  {
   "cell_type": "code",
   "execution_count": 21,
   "id": "c802f306-2ceb-4fc1-9681-b0c86a101432",
   "metadata": {},
   "outputs": [
    {
     "data": {
      "text/plain": [
       "reviews     0\n",
       "stars       0\n",
       "country     0\n",
       "verified    0\n",
       "corpus      0\n",
       "dates       0\n",
       "dtype: int64"
      ]
     },
     "execution_count": 21,
     "metadata": {},
     "output_type": "execute_result"
    }
   ],
   "source": [
    "df1.isnull().sum()"
   ]
  },
  {
   "cell_type": "code",
   "execution_count": 249,
   "id": "3dda59de-681b-4208-84e9-9ab0ed49ebdc",
   "metadata": {},
   "outputs": [
    {
     "data": {
      "text/plain": [
       "array([ 5.,  1., 10.,  3.,  6.,  9.,  2.,  8.,  7.,  4.])"
      ]
     },
     "execution_count": 249,
     "metadata": {},
     "output_type": "execute_result"
    }
   ],
   "source": [
    "df1.stars.unique()"
   ]
  },
  {
   "cell_type": "code",
   "execution_count": 23,
   "id": "b5c4c136-b222-4e43-bb4b-0fcd1aea5462",
   "metadata": {},
   "outputs": [],
   "source": [
    "#change the stars from float to string\n",
    "df1['stars'] = np.round(df1['stars']).astype(int).astype(str)"
   ]
  },
  {
   "cell_type": "code",
   "execution_count": 25,
   "id": "77718837-d0cd-413c-b061-48ace89523b7",
   "metadata": {},
   "outputs": [
    {
     "data": {
      "text/plain": [
       "reviews             object\n",
       "stars               object\n",
       "country             object\n",
       "verified              bool\n",
       "corpus              object\n",
       "dates       datetime64[ns]\n",
       "dtype: object"
      ]
     },
     "execution_count": 25,
     "metadata": {},
     "output_type": "execute_result"
    }
   ],
   "source": [
    "df1.dtypes"
   ]
  },
  {
   "cell_type": "code",
   "execution_count": 25,
   "id": "0083da17-dfbe-478a-b871-c9e68c57cdc2",
   "metadata": {},
   "outputs": [
    {
     "data": {
      "text/html": [
       "<div>\n",
       "<style scoped>\n",
       "    .dataframe tbody tr th:only-of-type {\n",
       "        vertical-align: middle;\n",
       "    }\n",
       "\n",
       "    .dataframe tbody tr th {\n",
       "        vertical-align: top;\n",
       "    }\n",
       "\n",
       "    .dataframe thead th {\n",
       "        text-align: right;\n",
       "    }\n",
       "</style>\n",
       "<table border=\"1\" class=\"dataframe\">\n",
       "  <thead>\n",
       "    <tr style=\"text-align: right;\">\n",
       "      <th></th>\n",
       "      <th>reviews</th>\n",
       "      <th>stars</th>\n",
       "      <th>country</th>\n",
       "      <th>verified</th>\n",
       "      <th>corpus</th>\n",
       "      <th>dates</th>\n",
       "    </tr>\n",
       "  </thead>\n",
       "  <tbody>\n",
       "    <tr>\n",
       "      <th>0</th>\n",
       "      <td>Not Verified |  I flew internationally for the...</td>\n",
       "      <td>5</td>\n",
       "      <td>United States</td>\n",
       "      <td>False</td>\n",
       "      <td>verified flew internationally first time life ...</td>\n",
       "      <td>2024-08-05</td>\n",
       "    </tr>\n",
       "    <tr>\n",
       "      <th>1</th>\n",
       "      <td>✅ Trip Verified | BA, after subsequent delays ...</td>\n",
       "      <td>1</td>\n",
       "      <td>Italy</td>\n",
       "      <td>True</td>\n",
       "      <td>ba subsequent delay postponed departure time i...</td>\n",
       "      <td>2024-08-03</td>\n",
       "    </tr>\n",
       "    <tr>\n",
       "      <th>2</th>\n",
       "      <td>Not Verified |   It is embarrassing to have th...</td>\n",
       "      <td>1</td>\n",
       "      <td>Australia</td>\n",
       "      <td>False</td>\n",
       "      <td>verified embarrassing word british attached ai...</td>\n",
       "      <td>2024-08-02</td>\n",
       "    </tr>\n",
       "    <tr>\n",
       "      <th>3</th>\n",
       "      <td>✅ Trip Verified | Flight cancelled due to bad ...</td>\n",
       "      <td>1</td>\n",
       "      <td>United Kingdom</td>\n",
       "      <td>True</td>\n",
       "      <td>flight cancelled due bad weather ba contacted ...</td>\n",
       "      <td>2024-08-02</td>\n",
       "    </tr>\n",
       "    <tr>\n",
       "      <th>4</th>\n",
       "      <td>✅ Trip Verified |  British Airways oversold my...</td>\n",
       "      <td>10</td>\n",
       "      <td>United States</td>\n",
       "      <td>True</td>\n",
       "      <td>british airway oversold lhr lax flight booked ...</td>\n",
       "      <td>2024-07-30</td>\n",
       "    </tr>\n",
       "  </tbody>\n",
       "</table>\n",
       "</div>"
      ],
      "text/plain": [
       "                                             reviews stars         country  \\\n",
       "0  Not Verified |  I flew internationally for the...     5   United States   \n",
       "1  ✅ Trip Verified | BA, after subsequent delays ...     1           Italy   \n",
       "2  Not Verified |   It is embarrassing to have th...     1       Australia   \n",
       "3  ✅ Trip Verified | Flight cancelled due to bad ...     1  United Kingdom   \n",
       "4  ✅ Trip Verified |  British Airways oversold my...    10   United States   \n",
       "\n",
       "   verified                                             corpus      dates  \n",
       "0     False  verified flew internationally first time life ... 2024-08-05  \n",
       "1      True  ba subsequent delay postponed departure time i... 2024-08-03  \n",
       "2     False  verified embarrassing word british attached ai... 2024-08-02  \n",
       "3      True  flight cancelled due bad weather ba contacted ... 2024-08-02  \n",
       "4      True  british airway oversold lhr lax flight booked ... 2024-07-30  "
      ]
     },
     "execution_count": 25,
     "metadata": {},
     "output_type": "execute_result"
    }
   ],
   "source": [
    "#Resetting the index\n",
    "df1.reset_index(drop=True, inplace=True)\n",
    "df=df1.copy()\n",
    "df.head()"
   ]
  },
  {
   "cell_type": "markdown",
   "id": "79aed7c5-4c77-4936-8bda-f8dc99d6e62c",
   "metadata": {},
   "source": [
    "Now our data is all cleaned and ready for data visualization and data analysis"
   ]
  },
  {
   "cell_type": "code",
   "execution_count": 75,
   "id": "92bee8a1-f5fc-47cf-84cd-806e9b318b9d",
   "metadata": {},
   "outputs": [],
   "source": [
    "# export the cleaned data\n",
    "\n",
    "df.to_csv(cwd + \"/cleaned-BA-reviews.csv\")"
   ]
  },
  {
   "cell_type": "code",
   "execution_count": null,
   "id": "d6b17ce1-44f0-4962-8b11-fb7fdfc7284a",
   "metadata": {},
   "outputs": [],
   "source": []
  }
 ],
 "metadata": {
  "kernelspec": {
   "display_name": "Python 3 (ipykernel)",
   "language": "python",
   "name": "python3"
  },
  "language_info": {
   "codemirror_mode": {
    "name": "ipython",
    "version": 3
   },
   "file_extension": ".py",
   "mimetype": "text/x-python",
   "name": "python",
   "nbconvert_exporter": "python",
   "pygments_lexer": "ipython3",
   "version": "3.11.7"
  }
 },
 "nbformat": 4,
 "nbformat_minor": 5
}
